{
 "cells": [
  {
   "cell_type": "code",
   "execution_count": 2,
   "metadata": {},
   "outputs": [],
   "source": [
    "import pandas as pd\n",
    "import numpy as np"
   ]
  },
  {
   "cell_type": "code",
   "execution_count": 4,
   "metadata": {},
   "outputs": [
    {
     "name": "stdout",
     "output_type": "stream",
     "text": [
      "15161\n"
     ]
    }
   ],
   "source": [
    "count=0\n",
    "for chunk in pd.read_csv(\"nurseCharting.csv\", chunksize=10000, usecols=[0]):\n",
    "    count+=1\n",
    "print(count)"
   ]
  },
  {
   "cell_type": "code",
   "execution_count": 6,
   "metadata": {},
   "outputs": [
    {
     "name": "stdout",
     "output_type": "stream",
     "text": [
      "rows 151610000\n"
     ]
    }
   ],
   "source": [
    "print(\"rows\",15161*10000)"
   ]
  },
  {
   "cell_type": "markdown",
   "metadata": {},
   "source": [
    "151 millions rows in nurseCharting, chunking is inevitable"
   ]
  },
  {
   "cell_type": "code",
   "execution_count": 7,
   "metadata": {},
   "outputs": [],
   "source": [
    "l_nursechart=[]\n",
    "for chunk in pd.read_csv(\"nurseCharting.csv\", chunksize=10000, usecols=[1, 3, 4, 5, 7]):\n",
    "    df=chunk.loc[(chunk['nursingchartcelltypecat']=='Scores') & (chunk['nursingchartcelltypevallabel']=='Glasgow coma score')]\n",
    "    l_nursechart.append(df)"
   ]
  },
  {
   "cell_type": "code",
   "execution_count": 8,
   "metadata": {},
   "outputs": [],
   "source": [
    "df_nursechart=pd.concat(l_nursechart, sort=False)"
   ]
  },
  {
   "cell_type": "code",
   "execution_count": 9,
   "metadata": {},
   "outputs": [
    {
     "data": {
      "text/html": [
       "<div>\n",
       "<style scoped>\n",
       "    .dataframe tbody tr th:only-of-type {\n",
       "        vertical-align: middle;\n",
       "    }\n",
       "\n",
       "    .dataframe tbody tr th {\n",
       "        vertical-align: top;\n",
       "    }\n",
       "\n",
       "    .dataframe thead th {\n",
       "        text-align: right;\n",
       "    }\n",
       "</style>\n",
       "<table border=\"1\" class=\"dataframe\">\n",
       "  <thead>\n",
       "    <tr style=\"text-align: right;\">\n",
       "      <th></th>\n",
       "      <th>patientunitstayid</th>\n",
       "      <th>nursingchartentryoffset</th>\n",
       "      <th>nursingchartcelltypecat</th>\n",
       "      <th>nursingchartcelltypevallabel</th>\n",
       "      <th>nursingchartvalue</th>\n",
       "    </tr>\n",
       "  </thead>\n",
       "  <tbody>\n",
       "    <tr>\n",
       "      <th>300</th>\n",
       "      <td>141924</td>\n",
       "      <td>2109</td>\n",
       "      <td>Scores</td>\n",
       "      <td>Glasgow coma score</td>\n",
       "      <td>15</td>\n",
       "    </tr>\n",
       "    <tr>\n",
       "      <th>480</th>\n",
       "      <td>141924</td>\n",
       "      <td>1894</td>\n",
       "      <td>Scores</td>\n",
       "      <td>Glasgow coma score</td>\n",
       "      <td>15</td>\n",
       "    </tr>\n",
       "    <tr>\n",
       "      <th>636</th>\n",
       "      <td>141924</td>\n",
       "      <td>424</td>\n",
       "      <td>Scores</td>\n",
       "      <td>Glasgow coma score</td>\n",
       "      <td>15</td>\n",
       "    </tr>\n",
       "    <tr>\n",
       "      <th>991</th>\n",
       "      <td>141944</td>\n",
       "      <td>484</td>\n",
       "      <td>Scores</td>\n",
       "      <td>Glasgow coma score</td>\n",
       "      <td>15</td>\n",
       "    </tr>\n",
       "    <tr>\n",
       "      <th>1022</th>\n",
       "      <td>141944</td>\n",
       "      <td>2389</td>\n",
       "      <td>Scores</td>\n",
       "      <td>Glasgow coma score</td>\n",
       "      <td>14</td>\n",
       "    </tr>\n",
       "  </tbody>\n",
       "</table>\n",
       "</div>"
      ],
      "text/plain": [
       "      patientunitstayid  nursingchartentryoffset nursingchartcelltypecat  \\\n",
       "300              141924                     2109                  Scores   \n",
       "480              141924                     1894                  Scores   \n",
       "636              141924                      424                  Scores   \n",
       "991              141944                      484                  Scores   \n",
       "1022             141944                     2389                  Scores   \n",
       "\n",
       "     nursingchartcelltypevallabel nursingchartvalue  \n",
       "300            Glasgow coma score                15  \n",
       "480            Glasgow coma score                15  \n",
       "636            Glasgow coma score                15  \n",
       "991            Glasgow coma score                15  \n",
       "1022           Glasgow coma score                14  "
      ]
     },
     "execution_count": 9,
     "metadata": {},
     "output_type": "execute_result"
    }
   ],
   "source": [
    "df_nursechartrt.head()"
   ]
  },
  {
   "cell_type": "code",
   "execution_count": 10,
   "metadata": {},
   "outputs": [
    {
     "data": {
      "text/plain": [
       "(11497735, 5)"
      ]
     },
     "execution_count": 10,
     "metadata": {},
     "output_type": "execute_result"
    }
   ],
   "source": [
    "df_nursechart.shape"
   ]
  },
  {
   "cell_type": "code",
   "execution_count": 11,
   "metadata": {},
   "outputs": [],
   "source": [
    "import csv"
   ]
  },
  {
   "cell_type": "code",
   "execution_count": 12,
   "metadata": {},
   "outputs": [],
   "source": [
    "df_nursechart.to_csv(\"gcs_scores.csv\",sep=',',index=False,encoding='utf-8')"
   ]
  },
  {
   "cell_type": "code",
   "execution_count": 13,
   "metadata": {},
   "outputs": [],
   "source": [
    "l_labs=[]\n",
    "for chunk in pd.read_csv(\"lab.csv\",chunksize=10000, usecols=[1, 2, 4, 5, 7, 8, 9]):\n",
    "    df=chunk.loc[(chunk['labname']=='paO2') | (chunk['labname']=='platelets x 1000') | \n",
    "                (chunk['labname']=='total bilirubin') | (chunk['labname']=='urinary creatinine')]\n",
    "    l_labs.append(df)\n",
    "df_labs=pd.concat(l_labs, sort=False)\n"
   ]
  },
  {
   "cell_type": "code",
   "execution_count": 14,
   "metadata": {},
   "outputs": [
    {
     "data": {
      "text/html": [
       "<div>\n",
       "<style scoped>\n",
       "    .dataframe tbody tr th:only-of-type {\n",
       "        vertical-align: middle;\n",
       "    }\n",
       "\n",
       "    .dataframe tbody tr th {\n",
       "        vertical-align: top;\n",
       "    }\n",
       "\n",
       "    .dataframe thead th {\n",
       "        text-align: right;\n",
       "    }\n",
       "</style>\n",
       "<table border=\"1\" class=\"dataframe\">\n",
       "  <thead>\n",
       "    <tr style=\"text-align: right;\">\n",
       "      <th></th>\n",
       "      <th>patientunitstayid</th>\n",
       "      <th>labresultoffset</th>\n",
       "      <th>labname</th>\n",
       "      <th>labresult</th>\n",
       "      <th>labmeasurenamesystem</th>\n",
       "      <th>labmeasurenameinterface</th>\n",
       "      <th>labresultrevisedoffset</th>\n",
       "    </tr>\n",
       "  </thead>\n",
       "  <tbody>\n",
       "    <tr>\n",
       "      <th>6</th>\n",
       "      <td>141168</td>\n",
       "      <td>1701</td>\n",
       "      <td>urinary creatinine</td>\n",
       "      <td>173.12</td>\n",
       "      <td>mg/dL</td>\n",
       "      <td>mg/dL</td>\n",
       "      <td>1757</td>\n",
       "    </tr>\n",
       "    <tr>\n",
       "      <th>24</th>\n",
       "      <td>141168</td>\n",
       "      <td>2026</td>\n",
       "      <td>paO2</td>\n",
       "      <td>68.00</td>\n",
       "      <td>mm Hg</td>\n",
       "      <td>mm Hg</td>\n",
       "      <td>2054</td>\n",
       "    </tr>\n",
       "    <tr>\n",
       "      <th>28</th>\n",
       "      <td>141168</td>\n",
       "      <td>2141</td>\n",
       "      <td>paO2</td>\n",
       "      <td>121.00</td>\n",
       "      <td>mm Hg</td>\n",
       "      <td>mm Hg</td>\n",
       "      <td>2155</td>\n",
       "    </tr>\n",
       "    <tr>\n",
       "      <th>29</th>\n",
       "      <td>141168</td>\n",
       "      <td>1133</td>\n",
       "      <td>platelets x 1000</td>\n",
       "      <td>213.00</td>\n",
       "      <td>K/mcL</td>\n",
       "      <td>K/mcL</td>\n",
       "      <td>1196</td>\n",
       "    </tr>\n",
       "    <tr>\n",
       "      <th>45</th>\n",
       "      <td>141168</td>\n",
       "      <td>2010</td>\n",
       "      <td>paO2</td>\n",
       "      <td>42.00</td>\n",
       "      <td>mm Hg</td>\n",
       "      <td>mm Hg</td>\n",
       "      <td>2026</td>\n",
       "    </tr>\n",
       "  </tbody>\n",
       "</table>\n",
       "</div>"
      ],
      "text/plain": [
       "    patientunitstayid  labresultoffset             labname  labresult  \\\n",
       "6              141168             1701  urinary creatinine     173.12   \n",
       "24             141168             2026                paO2      68.00   \n",
       "28             141168             2141                paO2     121.00   \n",
       "29             141168             1133    platelets x 1000     213.00   \n",
       "45             141168             2010                paO2      42.00   \n",
       "\n",
       "   labmeasurenamesystem labmeasurenameinterface  labresultrevisedoffset  \n",
       "6                 mg/dL                   mg/dL                    1757  \n",
       "24                mm Hg                   mm Hg                    2054  \n",
       "28                mm Hg                   mm Hg                    2155  \n",
       "29                K/mcL                   K/mcL                    1196  \n",
       "45                mm Hg                   mm Hg                    2026  "
      ]
     },
     "execution_count": 14,
     "metadata": {},
     "output_type": "execute_result"
    }
   ],
   "source": [
    "df_labs.head()"
   ]
  },
  {
   "cell_type": "code",
   "execution_count": 15,
   "metadata": {},
   "outputs": [],
   "source": [
    "df_labs.to_csv(\"labs_before_FiO2.csv\", sep=',', index=False, encoding='utf-8')"
   ]
  },
  {
   "cell_type": "code",
   "execution_count": 16,
   "metadata": {},
   "outputs": [
    {
     "data": {
      "text/plain": [
       "(2010839, 7)"
      ]
     },
     "execution_count": 16,
     "metadata": {},
     "output_type": "execute_result"
    }
   ],
   "source": [
    "df_labs.shape"
   ]
  },
  {
   "cell_type": "code",
   "execution_count": null,
   "metadata": {},
   "outputs": [],
   "source": []
  }
 ],
 "metadata": {
  "kernelspec": {
   "display_name": "Python 3",
   "language": "python",
   "name": "python3"
  },
  "language_info": {
   "codemirror_mode": {
    "name": "ipython",
    "version": 3
   },
   "file_extension": ".py",
   "mimetype": "text/x-python",
   "name": "python",
   "nbconvert_exporter": "python",
   "pygments_lexer": "ipython3",
   "version": "3.7.0"
  }
 },
 "nbformat": 4,
 "nbformat_minor": 2
}
