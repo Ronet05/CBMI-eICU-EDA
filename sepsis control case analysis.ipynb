{
 "cells": [
  {
   "cell_type": "code",
   "execution_count": 1,
   "metadata": {},
   "outputs": [],
   "source": [
    "import pandas as pd\n",
    "import numpy as np\n",
    "import matplotlib.pyplot as plt\n",
    "import math\n",
    "import scipy.stats as stats\n",
    "from random import randint\n",
    "%matplotlib inline"
   ]
  },
  {
   "cell_type": "code",
   "execution_count": 2,
   "metadata": {},
   "outputs": [],
   "source": [
    "patient=pd.read_csv(\"patient.csv\")"
   ]
  },
  {
   "cell_type": "code",
   "execution_count": 3,
   "metadata": {},
   "outputs": [
    {
     "data": {
      "text/html": [
       "<div>\n",
       "<style scoped>\n",
       "    .dataframe tbody tr th:only-of-type {\n",
       "        vertical-align: middle;\n",
       "    }\n",
       "\n",
       "    .dataframe tbody tr th {\n",
       "        vertical-align: top;\n",
       "    }\n",
       "\n",
       "    .dataframe thead th {\n",
       "        text-align: right;\n",
       "    }\n",
       "</style>\n",
       "<table border=\"1\" class=\"dataframe\">\n",
       "  <thead>\n",
       "    <tr style=\"text-align: right;\">\n",
       "      <th></th>\n",
       "      <th>patientunitstayid</th>\n",
       "      <th>patienthealthsystemstayid</th>\n",
       "      <th>gender</th>\n",
       "      <th>age</th>\n",
       "      <th>ethnicity</th>\n",
       "      <th>hospitalid</th>\n",
       "      <th>wardid</th>\n",
       "      <th>apacheadmissiondx</th>\n",
       "      <th>admissionheight</th>\n",
       "      <th>hospitaladmittime24</th>\n",
       "      <th>...</th>\n",
       "      <th>unitadmitsource</th>\n",
       "      <th>unitvisitnumber</th>\n",
       "      <th>unitstaytype</th>\n",
       "      <th>admissionweight</th>\n",
       "      <th>dischargeweight</th>\n",
       "      <th>unitdischargetime24</th>\n",
       "      <th>unitdischargeoffset</th>\n",
       "      <th>unitdischargelocation</th>\n",
       "      <th>unitdischargestatus</th>\n",
       "      <th>uniquepid</th>\n",
       "    </tr>\n",
       "  </thead>\n",
       "  <tbody>\n",
       "    <tr>\n",
       "      <th>0</th>\n",
       "      <td>141168</td>\n",
       "      <td>128919</td>\n",
       "      <td>Female</td>\n",
       "      <td>70</td>\n",
       "      <td>Caucasian</td>\n",
       "      <td>59</td>\n",
       "      <td>91</td>\n",
       "      <td>Rhythm disturbance (atrial, supraventricular)</td>\n",
       "      <td>152.4</td>\n",
       "      <td>15:54:00</td>\n",
       "      <td>...</td>\n",
       "      <td>Direct Admit</td>\n",
       "      <td>1</td>\n",
       "      <td>admit</td>\n",
       "      <td>84.3</td>\n",
       "      <td>85.8</td>\n",
       "      <td>03:50:00</td>\n",
       "      <td>3596</td>\n",
       "      <td>Death</td>\n",
       "      <td>Expired</td>\n",
       "      <td>002-34851</td>\n",
       "    </tr>\n",
       "    <tr>\n",
       "      <th>1</th>\n",
       "      <td>141178</td>\n",
       "      <td>128927</td>\n",
       "      <td>Female</td>\n",
       "      <td>52</td>\n",
       "      <td>Caucasian</td>\n",
       "      <td>60</td>\n",
       "      <td>83</td>\n",
       "      <td>NaN</td>\n",
       "      <td>162.6</td>\n",
       "      <td>08:56:00</td>\n",
       "      <td>...</td>\n",
       "      <td>Emergency Department</td>\n",
       "      <td>1</td>\n",
       "      <td>admit</td>\n",
       "      <td>54.4</td>\n",
       "      <td>54.4</td>\n",
       "      <td>09:18:00</td>\n",
       "      <td>8</td>\n",
       "      <td>Step-Down Unit (SDU)</td>\n",
       "      <td>Alive</td>\n",
       "      <td>002-33870</td>\n",
       "    </tr>\n",
       "    <tr>\n",
       "      <th>2</th>\n",
       "      <td>141179</td>\n",
       "      <td>128927</td>\n",
       "      <td>Female</td>\n",
       "      <td>52</td>\n",
       "      <td>Caucasian</td>\n",
       "      <td>60</td>\n",
       "      <td>83</td>\n",
       "      <td>NaN</td>\n",
       "      <td>162.6</td>\n",
       "      <td>08:56:00</td>\n",
       "      <td>...</td>\n",
       "      <td>ICU to SDU</td>\n",
       "      <td>2</td>\n",
       "      <td>stepdown/other</td>\n",
       "      <td>NaN</td>\n",
       "      <td>60.4</td>\n",
       "      <td>19:20:00</td>\n",
       "      <td>2042</td>\n",
       "      <td>Home</td>\n",
       "      <td>Alive</td>\n",
       "      <td>002-33870</td>\n",
       "    </tr>\n",
       "    <tr>\n",
       "      <th>3</th>\n",
       "      <td>141194</td>\n",
       "      <td>128941</td>\n",
       "      <td>Male</td>\n",
       "      <td>68</td>\n",
       "      <td>Caucasian</td>\n",
       "      <td>73</td>\n",
       "      <td>92</td>\n",
       "      <td>Sepsis, renal/UTI (including bladder)</td>\n",
       "      <td>180.3</td>\n",
       "      <td>18:18:40</td>\n",
       "      <td>...</td>\n",
       "      <td>Floor</td>\n",
       "      <td>1</td>\n",
       "      <td>admit</td>\n",
       "      <td>73.9</td>\n",
       "      <td>76.7</td>\n",
       "      <td>15:31:00</td>\n",
       "      <td>4813</td>\n",
       "      <td>Floor</td>\n",
       "      <td>Alive</td>\n",
       "      <td>002-5276</td>\n",
       "    </tr>\n",
       "    <tr>\n",
       "      <th>4</th>\n",
       "      <td>141196</td>\n",
       "      <td>128943</td>\n",
       "      <td>Male</td>\n",
       "      <td>71</td>\n",
       "      <td>Caucasian</td>\n",
       "      <td>67</td>\n",
       "      <td>109</td>\n",
       "      <td>NaN</td>\n",
       "      <td>162.6</td>\n",
       "      <td>20:21:00</td>\n",
       "      <td>...</td>\n",
       "      <td>ICU to SDU</td>\n",
       "      <td>2</td>\n",
       "      <td>stepdown/other</td>\n",
       "      <td>NaN</td>\n",
       "      <td>63.2</td>\n",
       "      <td>22:23:00</td>\n",
       "      <td>1463</td>\n",
       "      <td>Floor</td>\n",
       "      <td>Alive</td>\n",
       "      <td>002-37665</td>\n",
       "    </tr>\n",
       "  </tbody>\n",
       "</table>\n",
       "<p>5 rows × 29 columns</p>\n",
       "</div>"
      ],
      "text/plain": [
       "   patientunitstayid  patienthealthsystemstayid  gender age  ethnicity  \\\n",
       "0             141168                     128919  Female  70  Caucasian   \n",
       "1             141178                     128927  Female  52  Caucasian   \n",
       "2             141179                     128927  Female  52  Caucasian   \n",
       "3             141194                     128941    Male  68  Caucasian   \n",
       "4             141196                     128943    Male  71  Caucasian   \n",
       "\n",
       "   hospitalid  wardid                              apacheadmissiondx  \\\n",
       "0          59      91  Rhythm disturbance (atrial, supraventricular)   \n",
       "1          60      83                                            NaN   \n",
       "2          60      83                                            NaN   \n",
       "3          73      92          Sepsis, renal/UTI (including bladder)   \n",
       "4          67     109                                            NaN   \n",
       "\n",
       "   admissionheight hospitaladmittime24    ...           unitadmitsource  \\\n",
       "0            152.4            15:54:00    ...              Direct Admit   \n",
       "1            162.6            08:56:00    ...      Emergency Department   \n",
       "2            162.6            08:56:00    ...                ICU to SDU   \n",
       "3            180.3            18:18:40    ...                     Floor   \n",
       "4            162.6            20:21:00    ...                ICU to SDU   \n",
       "\n",
       "  unitvisitnumber    unitstaytype admissionweight  dischargeweight  \\\n",
       "0               1           admit            84.3             85.8   \n",
       "1               1           admit            54.4             54.4   \n",
       "2               2  stepdown/other             NaN             60.4   \n",
       "3               1           admit            73.9             76.7   \n",
       "4               2  stepdown/other             NaN             63.2   \n",
       "\n",
       "  unitdischargetime24 unitdischargeoffset unitdischargelocation  \\\n",
       "0            03:50:00                3596                 Death   \n",
       "1            09:18:00                   8  Step-Down Unit (SDU)   \n",
       "2            19:20:00                2042                  Home   \n",
       "3            15:31:00                4813                 Floor   \n",
       "4            22:23:00                1463                 Floor   \n",
       "\n",
       "  unitdischargestatus  uniquepid  \n",
       "0             Expired  002-34851  \n",
       "1               Alive  002-33870  \n",
       "2               Alive  002-33870  \n",
       "3               Alive   002-5276  \n",
       "4               Alive  002-37665  \n",
       "\n",
       "[5 rows x 29 columns]"
      ]
     },
     "execution_count": 3,
     "metadata": {},
     "output_type": "execute_result"
    }
   ],
   "source": [
    "patient.head()"
   ]
  },
  {
   "cell_type": "code",
   "execution_count": 4,
   "metadata": {},
   "outputs": [],
   "source": [
    "sepsis=pd.read_csv(\"24_hour_sepsis.csv\")"
   ]
  },
  {
   "cell_type": "code",
   "execution_count": 5,
   "metadata": {},
   "outputs": [
    {
     "data": {
      "text/html": [
       "<div>\n",
       "<style scoped>\n",
       "    .dataframe tbody tr th:only-of-type {\n",
       "        vertical-align: middle;\n",
       "    }\n",
       "\n",
       "    .dataframe tbody tr th {\n",
       "        vertical-align: top;\n",
       "    }\n",
       "\n",
       "    .dataframe thead th {\n",
       "        text-align: right;\n",
       "    }\n",
       "</style>\n",
       "<table border=\"1\" class=\"dataframe\">\n",
       "  <thead>\n",
       "    <tr style=\"text-align: right;\">\n",
       "      <th></th>\n",
       "      <th>patientunitstayid</th>\n",
       "      <th>tsofa</th>\n",
       "      <th>tsus</th>\n",
       "      <th>flag</th>\n",
       "    </tr>\n",
       "  </thead>\n",
       "  <tbody>\n",
       "    <tr>\n",
       "      <th>0</th>\n",
       "      <td>242040</td>\n",
       "      <td>69.0</td>\n",
       "      <td>188.0</td>\n",
       "      <td>1</td>\n",
       "    </tr>\n",
       "    <tr>\n",
       "      <th>1</th>\n",
       "      <td>242154</td>\n",
       "      <td>270.0</td>\n",
       "      <td>8589.0</td>\n",
       "      <td>0</td>\n",
       "    </tr>\n",
       "    <tr>\n",
       "      <th>2</th>\n",
       "      <td>242290</td>\n",
       "      <td>165.0</td>\n",
       "      <td>165.0</td>\n",
       "      <td>1</td>\n",
       "    </tr>\n",
       "    <tr>\n",
       "      <th>3</th>\n",
       "      <td>242434</td>\n",
       "      <td>1340.0</td>\n",
       "      <td>1.0</td>\n",
       "      <td>0</td>\n",
       "    </tr>\n",
       "    <tr>\n",
       "      <th>4</th>\n",
       "      <td>242544</td>\n",
       "      <td>9.0</td>\n",
       "      <td>31.0</td>\n",
       "      <td>1</td>\n",
       "    </tr>\n",
       "  </tbody>\n",
       "</table>\n",
       "</div>"
      ],
      "text/plain": [
       "   patientunitstayid   tsofa    tsus  flag\n",
       "0             242040    69.0   188.0     1\n",
       "1             242154   270.0  8589.0     0\n",
       "2             242290   165.0   165.0     1\n",
       "3             242434  1340.0     1.0     0\n",
       "4             242544     9.0    31.0     1"
      ]
     },
     "execution_count": 5,
     "metadata": {},
     "output_type": "execute_result"
    }
   ],
   "source": [
    "sepsis.head()"
   ]
  },
  {
   "cell_type": "code",
   "execution_count": 10,
   "metadata": {},
   "outputs": [
    {
     "data": {
      "text/plain": [
       "21635"
      ]
     },
     "execution_count": 10,
     "metadata": {},
     "output_type": "execute_result"
    }
   ],
   "source": [
    "len(sepsis.patientunitstayid.unique())"
   ]
  },
  {
   "cell_type": "code",
   "execution_count": 11,
   "metadata": {},
   "outputs": [],
   "source": [
    "control=sepsis[sepsis['flag']==0]\n",
    "control_patients=control['patientunitstayid'].unique()\n",
    "cases=sepsis[sepsis['flag']==1]\n",
    "case_patients=cases['patientunitstayid'].unique()"
   ]
  },
  {
   "cell_type": "code",
   "execution_count": 12,
   "metadata": {},
   "outputs": [
    {
     "name": "stdout",
     "output_type": "stream",
     "text": [
      "14175\n"
     ]
    }
   ],
   "source": [
    "print(len(case_patients))"
   ]
  },
  {
   "cell_type": "code",
   "execution_count": 13,
   "metadata": {},
   "outputs": [
    {
     "name": "stdout",
     "output_type": "stream",
     "text": [
      "Total suspected patients:  21635\n"
     ]
    }
   ],
   "source": [
    "print(\"Total suspected patients: \",(len(control_patients)+len(case_patients)))"
   ]
  },
  {
   "cell_type": "code",
   "execution_count": 14,
   "metadata": {},
   "outputs": [],
   "source": [
    "cases_details=patient[patient['patientunitstayid'].isin(case_patients)]\n",
    "control_details=patient[patient['patientunitstayid'].isin(control_patients)]\n",
    "cases_details=cases_details[['patientunitstayid','gender','age','ethnicity','unitdischargestatus']]\n",
    "control_details=control_details[['patientunitstayid','gender','age','ethnicity','unitdischargestatus']]"
   ]
  },
  {
   "cell_type": "markdown",
   "metadata": {},
   "source": [
    "<h3><center>Gender Diversity among patients for cases and control</center></h3>"
   ]
  },
  {
   "cell_type": "code",
   "execution_count": 15,
   "metadata": {},
   "outputs": [],
   "source": [
    "cases_male=cases_details.loc[cases_details['gender']==\"Male\"]\n",
    "cases_female=cases_details.loc[cases_details['gender']==\"Female\"]\n",
    "control_male=control_details.loc[control_details['gender']==\"Male\"]\n",
    "control_female=control_details.loc[control_details['gender']==\"Female\"]\n",
    "\n",
    "num_females_case=len(cases_female)\n",
    "num_males_case=len(cases_male)\n",
    "num_females_control=len(control_female)\n",
    "num_males_control=len(control_male)"
   ]
  },
  {
   "cell_type": "code",
   "execution_count": 16,
   "metadata": {},
   "outputs": [
    {
     "data": {
      "image/png": "[encoded data removed]",
      "text/plain": [
       "<Figure size 432x288 with 1 Axes>"
      ]
     },
     "metadata": {},
     "output_type": "display_data"
    }
   ],
   "source": [
    "plt.pie([num_males_case,num_females_case],labels=['Males','Females'],colors=['red','blue'],autopct='%1.1f%%')\n",
    "plt.show()"
   ]
  },
  {
   "cell_type": "code",
   "execution_count": 17,
   "metadata": {},
   "outputs": [
    {
     "data": {
      "image/png": "[encoded data removed]",
      "text/plain": [
       "<Figure size 432x288 with 1 Axes>"
      ]
     },
     "metadata": {},
     "output_type": "display_data"
    }
   ],
   "source": [
    "plt.pie([num_males_control,num_females_control],labels=['Males','Females'],colors=['red','blue'],autopct='%1.1f%%')\n",
    "plt.show()"
   ]
  },
  {
   "cell_type": "markdown",
   "metadata": {},
   "source": [
    "<h3><center>Demographics Study</center></h3>"
   ]
  },
  {
   "cell_type": "code",
   "execution_count": 18,
   "metadata": {},
   "outputs": [
    {
     "data": {
      "image/png": "[encoded data removed]",
      "text/plain": [
       "<Figure size 432x288 with 1 Axes>"
      ]
     },
     "metadata": {
      "needs_background": "light"
     },
     "output_type": "display_data"
    },
    {
     "data": {
      "image/png": "[encoded data removed]",
      "text/plain": [
       "<Figure size 432x288 with 1 Axes>"
      ]
     },
     "metadata": {
      "needs_background": "light"
     },
     "output_type": "display_data"
    },
    {
     "data": {
      "image/png": "[encoded data removed]",
      "text/plain": [
       "<Figure size 432x288 with 1 Axes>"
      ]
     },
     "metadata": {
      "needs_background": "light"
     },
     "output_type": "display_data"
    }
   ],
   "source": [
    "#Demographics study\n",
    "ethnicity_case=cases_details[['ethnicity']]\n",
    "ethnicity_control=control_details[['ethnicity']]\n",
    "ethnicity_case_dict=ethnicity_case['ethnicity'].value_counts().to_dict()\n",
    "ethnicity_control_dict=ethnicity_control['ethnicity'].value_counts().to_dict()\n",
    "\n",
    "ethnicity_labels=list(ethnicity_case['ethnicity'].value_counts().to_dict().keys())\n",
    "ethnicity_case_values=list(ethnicity_case['ethnicity'].value_counts().to_dict().values())\n",
    "ethnicity_control_values=list(ethnicity_control['ethnicity'].value_counts().to_dict().values())\n",
    "\n",
    "#Plotting for the cases\n",
    "\n",
    "plt.bar(ethnicity_labels,ethnicity_case_values)\n",
    "plt.xlabel(\"Unique ethnicities --> \")\n",
    "plt.ylabel(\"Count -- > \")\n",
    "plt.title(\"Ethnicity distribution of sepsis case patients\")\n",
    "plt.xticks(ethnicity_labels,rotation=30)\n",
    "plt.show()\n",
    "\n",
    "#Plotting for the controls\n",
    "\n",
    "plt.bar(ethnicity_labels,ethnicity_control_values)\n",
    "plt.xlabel(\"Unique ethnicities --> \")\n",
    "plt.ylabel(\"Count -- > \")\n",
    "plt.title(\"Ethnicity distribution of sepsis control patients\")\n",
    "plt.xticks(ethnicity_labels,rotation=30)\n",
    "plt.show()\n",
    "\n",
    "#for comparison\n",
    "plt.bar(ethnicity_labels,ethnicity_case_values)\n",
    "plt.bar(ethnicity_labels,ethnicity_control_values)\n",
    "plt.xlabel(\"Unique ethnicities --> \")\n",
    "plt.ylabel(\"Count -- > \")\n",
    "plt.title(\"Stacked Bar graph between case and control\")\n",
    "plt.xticks(ethnicity_labels,rotation=30)\n",
    "plt.legend(['case','control'])\n",
    "plt.show()\n"
   ]
  },
  {
   "cell_type": "markdown",
   "metadata": {},
   "source": [
    "<h3><center>Age Distribution</center></h3>"
   ]
  },
  {
   "cell_type": "code",
   "execution_count": 20,
   "metadata": {},
   "outputs": [
    {
     "name": "stdout",
     "output_type": "stream",
     "text": [
      "Total number of adults in the suspicious data:  21621\n",
      "Total number of children in the suspicious data:  14\n"
     ]
    },
    {
     "data": {
      "image/png": "[encoded data removed]",
      "text/plain": [
       "<Figure size 432x288 with 1 Axes>"
      ]
     },
     "metadata": {
      "needs_background": "light"
     },
     "output_type": "display_data"
    },
    {
     "data": {
      "image/png": "[encoded data removed]",
      "text/plain": [
       "<Figure size 432x288 with 1 Axes>"
      ]
     },
     "metadata": {
      "needs_background": "light"
     },
     "output_type": "display_data"
    }
   ],
   "source": [
    "#normal distribution of the ages\n",
    "case_ages=cases_details['age'].tolist()\n",
    "control_ages=control_details['age'].tolist()\n",
    "\n",
    "#there are ages which have been marked >89, which needs to be changed in order to make a graph\n",
    "#for our convenience, we will replace it with a random number between 90 and 100 to eliminate bias\n",
    "\n",
    "for n,i in enumerate(case_ages):\n",
    "    if(i=='> 89'):\n",
    "        case_ages[n]=str(randint(90,100))\n",
    "\n",
    "for n,i in enumerate(control_ages):\n",
    "    if(i=='> 89'):\n",
    "        control_ages[n]=str(randint(90,100))\n",
    "        \n",
    "case_ages=list(map(int,case_ages))\n",
    "control_ages=list(map(int,control_ages))\n",
    "\n",
    "case_ages_mean=np.mean(case_ages)\n",
    "control_ages_mean=np.mean(control_ages)\n",
    "cases_ages_sigma=np.std(case_ages)\n",
    "control_ages_sigma=np.std(control_ages)\n",
    "\n",
    "#-----------------------------------------------\n",
    "#for counting no. of adults and children in the sample for consort\n",
    "adult_cases_count=0\n",
    "children_cases_count=0\n",
    "adult_control_count=0\n",
    "children_control_count=0\n",
    "\n",
    "for i in case_ages:\n",
    "    if(i>=18):\n",
    "        adult_cases_count+=1\n",
    "    else:\n",
    "        children_cases_count+=1\n",
    "        \n",
    "for i in control_ages:\n",
    "    if(i>=18):\n",
    "        adult_control_count+=1\n",
    "    else:\n",
    "        children_control_count+=1\n",
    "\n",
    "\n",
    "print(\"Total number of adults in the suspicious data: \",(adult_cases_count+adult_control_count))\n",
    "print(\"Total number of children in the suspicious data: \",(children_cases_count+children_control_count))  \n",
    "\n",
    "#------------------------------------------------\n",
    "        \n",
    "#plotting the bell curves\n",
    "x_cases = np.linspace(case_ages_mean - 3*cases_ages_sigma, case_ages_mean + 3*cases_ages_sigma, 100)\n",
    "x_control = np.linspace(control_ages_mean - 3*control_ages_sigma, control_ages_mean + 3*control_ages_sigma, 100)\n",
    "\n",
    "#for case\n",
    "plt.plot(x_cases, stats.norm.pdf(x_cases, case_ages_mean, cases_ages_sigma))\n",
    "plt.xlabel(\"Patient age --> \")\n",
    "plt.title(\"Normal Distribution of ages in cases patients (Bell Curve) \")\n",
    "plt.show()\n",
    "\n",
    "#for control\n",
    "plt.plot(x_control, stats.norm.pdf(x_control, control_ages_mean, control_ages_sigma))\n",
    "plt.xlabel(\"Patient age --> \")\n",
    "plt.title(\"Normal Distribution of ages in control patients (Bell Curve) \")\n",
    "plt.show()"
   ]
  },
  {
   "cell_type": "markdown",
   "metadata": {},
   "source": [
    "From the above graph we can see similar graphs for both the case and control patients. It's simply because people in the range\n",
    "of 50 to 70 are most susceptible to sepsis. This is what we infer from the graph. "
   ]
  },
  {
   "cell_type": "markdown",
   "metadata": {},
   "source": [
    "<h3><center>Consort Diagram</center></h3>\n",
    "<img src=\"consort.png\">"
   ]
  },
  {
   "cell_type": "code",
   "execution_count": null,
   "metadata": {},
   "outputs": [],
   "source": []
  }
 ],
 "metadata": {
  "kernelspec": {
   "display_name": "Python 3",
   "language": "python",
   "name": "python3"
  },
  "language_info": {
   "codemirror_mode": {
    "name": "ipython",
    "version": 3
   },
   "file_extension": ".py",
   "mimetype": "text/x-python",
   "name": "python",
   "nbconvert_exporter": "python",
   "pygments_lexer": "ipython3",
   "version": "3.7.3"
  }
 },
 "nbformat": 4,
 "nbformat_minor": 2
}
