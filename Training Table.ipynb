{
 "cells": [
  {
   "cell_type": "code",
   "execution_count": 5,
   "metadata": {},
   "outputs": [],
   "source": [
    "import pandas as pd\n",
    "import numpy as np"
   ]
  },
  {
   "cell_type": "code",
   "execution_count": 6,
   "metadata": {},
   "outputs": [],
   "source": [
    "d_gcs=pd.read_csv(\"gcs_scores_updated.csv\")\n",
    "d_gcs=d_gcs.drop(columns=['nursingchartcelltypecat','nursingchartcelltypevallabel'])\n",
    "d_gcs=d_gcs.drop_duplicates()\n",
    "d_gcs=d_gcs.rename(columns={'nursingchartentryoffset':'offset'})"
   ]
  },
  {
   "cell_type": "code",
   "execution_count": 7,
   "metadata": {},
   "outputs": [],
   "source": [
    "labs=pd.read_csv(\"labs_morevars.csv\")\n",
    "labs=labs.drop_duplicates()\n",
    "labs=labs.rename(columns={'labresultoffset':'offset'})"
   ]
  },
  {
   "cell_type": "code",
   "execution_count": 8,
   "metadata": {},
   "outputs": [],
   "source": [
    "cardiovas=pd.read_csv(\"drugate_norm_updated.csv\")\n",
    "cardiovas.drop_duplicates()\n",
    "cardiovas=cardiovas.drop(columns=['nursingchartvalue','SOFA_cardio'])"
   ]
  },
  {
   "cell_type": "code",
   "execution_count": 9,
   "metadata": {},
   "outputs": [],
   "source": [
    "#First merge\n",
    "labs_cardio=pd.merge(labs,cardiovas,how=\"outer\",on=['patientunitstayid','offset']).drop_duplicates()\n",
    "labs_cardio.to_csv(\"labs_cardio_interim.csv\",index=False)"
   ]
  },
  {
   "cell_type": "code",
   "execution_count": 10,
   "metadata": {},
   "outputs": [],
   "source": [
    "del labs\n",
    "del cardiovas"
   ]
  },
  {
   "cell_type": "code",
   "execution_count": 11,
   "metadata": {},
   "outputs": [],
   "source": [
    "training_build=pd.merge(labs_cardio,d_gcs,how=\"outer\",on=['patientunitstayid','offset']).drop_duplicates()\n",
    "del d_gcs"
   ]
  },
  {
   "cell_type": "code",
   "execution_count": 13,
   "metadata": {},
   "outputs": [
    {
     "data": {
      "text/plain": [
       "12771645"
      ]
     },
     "execution_count": 13,
     "metadata": {},
     "output_type": "execute_result"
    }
   ],
   "source": [
    "#Initial length due to replication\n",
    "len(training_build)"
   ]
  },
  {
   "cell_type": "code",
   "execution_count": 14,
   "metadata": {},
   "outputs": [],
   "source": [
    "#To correct the replication of offsets for same patients\n",
    "training_build=training_build.groupby(['patientunitstayid','offset'],as_index=False).max().drop_duplicates()"
   ]
  },
  {
   "cell_type": "code",
   "execution_count": 15,
   "metadata": {},
   "outputs": [
    {
     "data": {
      "text/plain": [
       "5902370"
      ]
     },
     "execution_count": 15,
     "metadata": {},
     "output_type": "execute_result"
    }
   ],
   "source": [
    "len(training_build)"
   ]
  },
  {
   "cell_type": "code",
   "execution_count": 16,
   "metadata": {},
   "outputs": [],
   "source": [
    "training_build=training_build.groupby(['patientunitstayid'],as_index=False).apply(pd.DataFrame.sort_values,'offset').reset_index()\n",
    "training_build=training_build.drop(columns=['level_0','level_1'])\n",
    "training_build=training_build.drop(columns=['Norepinephrine','Epinephrine','Dopamine','Dobutamine'])\n",
    "training_build_filtered=training_build.dropna(subset=['paO2_FiO2','platelets_x_1000','total_bilirubin','urinary_creatinine','creatinine','HCO3','pH','paCO2','direct_bilirubin','excess','ast','bun','calcium','GCS_Score'],how='all')\n",
    "training_build_filtered['label']=np.nan"
   ]
  },
  {
   "cell_type": "code",
   "execution_count": 24,
   "metadata": {},
   "outputs": [
    {
     "data": {
      "text/html": [
       "<div>\n",
       "<style scoped>\n",
       "    .dataframe tbody tr th:only-of-type {\n",
       "        vertical-align: middle;\n",
       "    }\n",
       "\n",
       "    .dataframe tbody tr th {\n",
       "        vertical-align: top;\n",
       "    }\n",
       "\n",
       "    .dataframe thead th {\n",
       "        text-align: right;\n",
       "    }\n",
       "</style>\n",
       "<table border=\"1\" class=\"dataframe\">\n",
       "  <thead>\n",
       "    <tr style=\"text-align: right;\">\n",
       "      <th></th>\n",
       "      <th>patientunitstayid</th>\n",
       "      <th>tsofa</th>\n",
       "      <th>tsus</th>\n",
       "      <th>flag</th>\n",
       "      <th>tsepsis</th>\n",
       "    </tr>\n",
       "  </thead>\n",
       "  <tbody>\n",
       "    <tr>\n",
       "      <th>0</th>\n",
       "      <td>242040</td>\n",
       "      <td>69.0</td>\n",
       "      <td>188.0</td>\n",
       "      <td>1</td>\n",
       "      <td>69.0</td>\n",
       "    </tr>\n",
       "    <tr>\n",
       "      <th>1</th>\n",
       "      <td>242154</td>\n",
       "      <td>270.0</td>\n",
       "      <td>8589.0</td>\n",
       "      <td>0</td>\n",
       "      <td>270.0</td>\n",
       "    </tr>\n",
       "    <tr>\n",
       "      <th>2</th>\n",
       "      <td>242290</td>\n",
       "      <td>165.0</td>\n",
       "      <td>165.0</td>\n",
       "      <td>1</td>\n",
       "      <td>165.0</td>\n",
       "    </tr>\n",
       "    <tr>\n",
       "      <th>3</th>\n",
       "      <td>242434</td>\n",
       "      <td>1340.0</td>\n",
       "      <td>1.0</td>\n",
       "      <td>0</td>\n",
       "      <td>1.0</td>\n",
       "    </tr>\n",
       "    <tr>\n",
       "      <th>4</th>\n",
       "      <td>242544</td>\n",
       "      <td>9.0</td>\n",
       "      <td>31.0</td>\n",
       "      <td>1</td>\n",
       "      <td>9.0</td>\n",
       "    </tr>\n",
       "  </tbody>\n",
       "</table>\n",
       "</div>"
      ],
      "text/plain": [
       "   patientunitstayid   tsofa    tsus  flag  tsepsis\n",
       "0             242040    69.0   188.0     1     69.0\n",
       "1             242154   270.0  8589.0     0    270.0\n",
       "2             242290   165.0   165.0     1    165.0\n",
       "3             242434  1340.0     1.0     0      1.0\n",
       "4             242544     9.0    31.0     1      9.0"
      ]
     },
     "execution_count": 24,
     "metadata": {},
     "output_type": "execute_result"
    }
   ],
   "source": [
    "sepsis_labels=pd.read_csv(\"24_hour_sepsis.csv\")\n",
    "sepsis_labels['tsepsis']=sepsis_labels[['tsus','tsofa']].min(axis=1)"
   ]
  },
  {
   "cell_type": "code",
   "execution_count": 46,
   "metadata": {},
   "outputs": [],
   "source": [
    "final_build=pd.merge(training_build_filtered,sepsis_labels,how='left',left_on=['patientunitstayid','offset'],right_on=['patientunitstayid','tsepsis'])\n",
    "final_build.label=final_build.flag\n",
    "final_build=final_build.drop(columns=['tsofa','tsus','tsepsis','flag'])\n",
    "#After the initial sepsis=1 flag, all the labels for that patient is given label=1, all before that is 0\n",
    "final_build['label']=final_build.groupby(['patientunitstayid'])['label'].ffill()\n",
    "final_build['label']=final_build['label'].fillna(0)"
   ]
  },
  {
   "cell_type": "code",
   "execution_count": 51,
   "metadata": {},
   "outputs": [],
   "source": [
    "final_build.to_csv(\"training_table.csv\",index=False)"
   ]
  },
  {
   "cell_type": "code",
   "execution_count": 54,
   "metadata": {},
   "outputs": [],
   "source": [
    "final_build_nonneg=final_build.loc[~(final_build['offset']<0)]\n",
    "final_build_nonneg.to_csv(\"training_table_nonneg.csv\",index=False)"
   ]
  },
  {
   "cell_type": "code",
   "execution_count": null,
   "metadata": {},
   "outputs": [],
   "source": []
  }
 ],
 "metadata": {
  "kernelspec": {
   "display_name": "Python 3",
   "language": "python",
   "name": "python3"
  },
  "language_info": {
   "codemirror_mode": {
    "name": "ipython",
    "version": 3
   },
   "file_extension": ".py",
   "mimetype": "text/x-python",
   "name": "python",
   "nbconvert_exporter": "python",
   "pygments_lexer": "ipython3",
   "version": "3.7.3"
  }
 },
 "nbformat": 4,
 "nbformat_minor": 2
}
