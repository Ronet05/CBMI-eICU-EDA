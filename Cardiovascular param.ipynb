{
 "cells": [
  {
   "cell_type": "code",
   "execution_count": 1,
   "metadata": {},
   "outputs": [],
   "source": [
    "import pandas as pd\n",
    "import numpy as np"
   ]
  },
  {
   "cell_type": "code",
   "execution_count": 24,
   "metadata": {},
   "outputs": [
    {
     "name": "stderr",
     "output_type": "stream",
     "text": [
      "C:\\ProgramData\\Anaconda3\\lib\\site-packages\\IPython\\core\\interactiveshell.py:3049: DtypeWarning: Columns (4) have mixed types. Specify dtype option on import or set low_memory=False.\n",
      "  interactivity=interactivity, compiler=compiler, result=result)\n"
     ]
    },
    {
     "data": {
      "text/html": [
       "<div>\n",
       "<style scoped>\n",
       "    .dataframe tbody tr th:only-of-type {\n",
       "        vertical-align: middle;\n",
       "    }\n",
       "\n",
       "    .dataframe tbody tr th {\n",
       "        vertical-align: top;\n",
       "    }\n",
       "\n",
       "    .dataframe thead th {\n",
       "        text-align: right;\n",
       "    }\n",
       "</style>\n",
       "<table border=\"1\" class=\"dataframe\">\n",
       "  <thead>\n",
       "    <tr style=\"text-align: right;\">\n",
       "      <th></th>\n",
       "      <th>infusiondrugid</th>\n",
       "      <th>patientunitstayid</th>\n",
       "      <th>infusionoffset</th>\n",
       "      <th>drugname</th>\n",
       "      <th>drugrate</th>\n",
       "      <th>infusionrate</th>\n",
       "      <th>drugamount</th>\n",
       "      <th>volumeoffluid</th>\n",
       "      <th>patientweight</th>\n",
       "    </tr>\n",
       "  </thead>\n",
       "  <tbody>\n",
       "    <tr>\n",
       "      <th>0</th>\n",
       "      <td>1953469</td>\n",
       "      <td>242040</td>\n",
       "      <td>457</td>\n",
       "      <td>Milrinone (mcg/kg/min)</td>\n",
       "      <td>.43</td>\n",
       "      <td>11.8</td>\n",
       "      <td>20.0</td>\n",
       "      <td>100.0</td>\n",
       "      <td>91.7</td>\n",
       "    </tr>\n",
       "    <tr>\n",
       "      <th>1</th>\n",
       "      <td>1998443</td>\n",
       "      <td>242082</td>\n",
       "      <td>425</td>\n",
       "      <td>Norepinephrine (mcg/min)</td>\n",
       "      <td>10.93</td>\n",
       "      <td>41.0</td>\n",
       "      <td>4.0</td>\n",
       "      <td>250.0</td>\n",
       "      <td>NaN</td>\n",
       "    </tr>\n",
       "    <tr>\n",
       "      <th>2</th>\n",
       "      <td>1968206</td>\n",
       "      <td>242082</td>\n",
       "      <td>125</td>\n",
       "      <td>Norepinephrine (mcg/min)</td>\n",
       "      <td>7</td>\n",
       "      <td>26.3</td>\n",
       "      <td>4.0</td>\n",
       "      <td>250.0</td>\n",
       "      <td>NaN</td>\n",
       "    </tr>\n",
       "    <tr>\n",
       "      <th>3</th>\n",
       "      <td>1991487</td>\n",
       "      <td>242082</td>\n",
       "      <td>665</td>\n",
       "      <td>NS (ml/hr)</td>\n",
       "      <td>200</td>\n",
       "      <td>200.0</td>\n",
       "      <td>NaN</td>\n",
       "      <td>NaN</td>\n",
       "      <td>NaN</td>\n",
       "    </tr>\n",
       "    <tr>\n",
       "      <th>4</th>\n",
       "      <td>1969910</td>\n",
       "      <td>242082</td>\n",
       "      <td>55</td>\n",
       "      <td>Norepinephrine (mcg/min)</td>\n",
       "      <td>2.13</td>\n",
       "      <td>8.0</td>\n",
       "      <td>4.0</td>\n",
       "      <td>250.0</td>\n",
       "      <td>NaN</td>\n",
       "    </tr>\n",
       "  </tbody>\n",
       "</table>\n",
       "</div>"
      ],
      "text/plain": [
       "   infusiondrugid  patientunitstayid  infusionoffset  \\\n",
       "0         1953469             242040             457   \n",
       "1         1998443             242082             425   \n",
       "2         1968206             242082             125   \n",
       "3         1991487             242082             665   \n",
       "4         1969910             242082              55   \n",
       "\n",
       "                   drugname drugrate  infusionrate  drugamount  volumeoffluid  \\\n",
       "0    Milrinone (mcg/kg/min)      .43          11.8        20.0          100.0   \n",
       "1  Norepinephrine (mcg/min)    10.93          41.0         4.0          250.0   \n",
       "2  Norepinephrine (mcg/min)        7          26.3         4.0          250.0   \n",
       "3                NS (ml/hr)      200         200.0         NaN            NaN   \n",
       "4  Norepinephrine (mcg/min)     2.13           8.0         4.0          250.0   \n",
       "\n",
       "   patientweight  \n",
       "0           91.7  \n",
       "1            NaN  \n",
       "2            NaN  \n",
       "3            NaN  \n",
       "4            NaN  "
      ]
     },
     "execution_count": 24,
     "metadata": {},
     "output_type": "execute_result"
    }
   ],
   "source": [
    "infusiondrug=pd.read_csv(\"infusionDrug.csv\")\n",
    "infusiondrug.head()"
   ]
  },
  {
   "cell_type": "code",
   "execution_count": 25,
   "metadata": {},
   "outputs": [
    {
     "data": {
      "text/plain": [
       "infusiondrugid         int64\n",
       "patientunitstayid      int64\n",
       "infusionoffset         int64\n",
       "drugname              object\n",
       "drugrate              object\n",
       "infusionrate         float64\n",
       "drugamount           float64\n",
       "volumeoffluid        float64\n",
       "patientweight        float64\n",
       "dtype: object"
      ]
     },
     "execution_count": 25,
     "metadata": {},
     "output_type": "execute_result"
    }
   ],
   "source": [
    "infusiondrug.dtypes"
   ]
  },
  {
   "cell_type": "code",
   "execution_count": 26,
   "metadata": {},
   "outputs": [],
   "source": [
    "inf_cpy=infusiondrug\n"
   ]
  },
  {
   "cell_type": "code",
   "execution_count": 27,
   "metadata": {},
   "outputs": [],
   "source": [
    "infusiondrug['drugname']=infusiondrug['drugname'].astype('str')"
   ]
  },
  {
   "cell_type": "code",
   "execution_count": 28,
   "metadata": {},
   "outputs": [
    {
     "data": {
      "text/plain": [
       "False"
      ]
     },
     "execution_count": 28,
     "metadata": {},
     "output_type": "execute_result"
    }
   ],
   "source": [
    "any(infusiondrug['drugname'].isnull())"
   ]
  },
  {
   "cell_type": "code",
   "execution_count": 29,
   "metadata": {},
   "outputs": [],
   "source": [
    "drug_names=infusiondrug['drugname'].unique()"
   ]
  },
  {
   "cell_type": "code",
   "execution_count": 31,
   "metadata": {},
   "outputs": [
    {
     "name": "stdout",
     "output_type": "stream",
     "text": [
      "Dobutamine (mcg/kg/min)\n",
      "Dobutamine (mcg/min)\n",
      "Dobutamine (ml/hr)\n",
      "Dobutamine\n",
      "Dobutamine ()\n",
      "Dobutamine (mcg/kg/hr)\n",
      "Dobutamine (units/min)\n"
     ]
    }
   ],
   "source": [
    "for name in drug_names:\n",
    "    if(\"Dobuta\" in name):\n",
    "        print(name)"
   ]
  },
  {
   "cell_type": "code",
   "execution_count": null,
   "metadata": {},
   "outputs": [],
   "source": [
    "infusiondrug"
   ]
  },
  {
   "cell_type": "code",
   "execution_count": 32,
   "metadata": {},
   "outputs": [],
   "source": [
    "infusiondrug=infusiondrug.loc[(infusiondrug['drugname'].str.contains(\"Dopamine\")) | \n",
    "                              (infusiondrug['drugname'].str.contains(\"Norepinephrine\")) | \n",
    "                              (infusiondrug['drugname'].str.contains(\"Epinephrine\")) | \n",
    "                               (infusiondrug['drugname'].str.contains(\"norepinephrine\")) | \n",
    "                               (infusiondrug['drugname'].str.contains(\"dopamine\")) | \n",
    "                              (infusiondrug['drugname'].str.contains(\"Dobutamine\"))]"
   ]
  },
  {
   "cell_type": "code",
   "execution_count": 34,
   "metadata": {},
   "outputs": [],
   "source": [
    "import csv"
   ]
  },
  {
   "cell_type": "code",
   "execution_count": 35,
   "metadata": {},
   "outputs": [],
   "source": [
    "infusiondrug.to_csv(\"cardiovascular_params.csv\", sep=',', index=False, encoding='utf-8')"
   ]
  },
  {
   "cell_type": "markdown",
   "metadata": {},
   "source": [
    "<h1>Continue from here</h1>"
   ]
  },
  {
   "cell_type": "code",
   "execution_count": 5,
   "metadata": {},
   "outputs": [
    {
     "name": "stderr",
     "output_type": "stream",
     "text": [
      "C:\\ProgramData\\Anaconda3\\lib\\site-packages\\IPython\\core\\interactiveshell.py:3049: DtypeWarning: Columns (4) have mixed types. Specify dtype option on import or set low_memory=False.\n",
      "  interactivity=interactivity, compiler=compiler, result=result)\n"
     ]
    }
   ],
   "source": [
    "inf_drug=pd.read_csv('cardiovascular_params.csv')"
   ]
  },
  {
   "cell_type": "code",
   "execution_count": 12,
   "metadata": {},
   "outputs": [],
   "source": [
    "inf_drug_new=inf_drug.loc[inf_drug['drugname'].str.contains(\"\\(\")]"
   ]
  },
  {
   "cell_type": "code",
   "execution_count": 19,
   "metadata": {},
   "outputs": [
    {
     "name": "stderr",
     "output_type": "stream",
     "text": [
      "C:\\ProgramData\\Anaconda3\\lib\\site-packages\\ipykernel_launcher.py:1: SettingWithCopyWarning: \n",
      "A value is trying to be set on a copy of a slice from a DataFrame.\n",
      "Try using .loc[row_indexer,col_indexer] = value instead\n",
      "\n",
      "See the caveats in the documentation: http://pandas.pydata.org/pandas-docs/stable/indexing.html#indexing-view-versus-copy\n",
      "  \"\"\"Entry point for launching an IPython kernel.\n"
     ]
    }
   ],
   "source": [
    "inf_drug_new['unit']=\"\""
   ]
  },
  {
   "cell_type": "code",
   "execution_count": 20,
   "metadata": {},
   "outputs": [
    {
     "name": "stderr",
     "output_type": "stream",
     "text": [
      "C:\\ProgramData\\Anaconda3\\lib\\site-packages\\ipykernel_launcher.py:1: SettingWithCopyWarning: \n",
      "A value is trying to be set on a copy of a slice from a DataFrame.\n",
      "Try using .loc[row_indexer,col_indexer] = value instead\n",
      "\n",
      "See the caveats in the documentation: http://pandas.pydata.org/pandas-docs/stable/indexing.html#indexing-view-versus-copy\n",
      "  \"\"\"Entry point for launching an IPython kernel.\n"
     ]
    }
   ],
   "source": [
    "inf_drug_new['unit']=inf_drug_new['drugname'].apply(lambda x: x.split('(')[1])"
   ]
  },
  {
   "cell_type": "code",
   "execution_count": 25,
   "metadata": {},
   "outputs": [
    {
     "data": {
      "text/plain": [
       "array(['Norepinephrine (mcg/min)', 'Dopamine (mcg/kg/min)',\n",
       "       'Epinephrine (mcg/min)', 'Norepinephrine (ml/hr)',\n",
       "       'Norepinephrine ()', 'Dopamine (ml/hr)', 'Dobutamine (mcg/kg/min)',\n",
       "       'Norepinephrine (Unknown)', 'Norepinephrine (mcg/hr)',\n",
       "       'Norepinephrine (mcg/kg/min)', 'Norepinephrine (mg/hr)',\n",
       "       'Epinephrine (mcg/kg/min)', 'Epinephrine (ml/hr)',\n",
       "       'Norepinephrine (mcg/kg/hr)', 'Norepinephrine (mg/min)',\n",
       "       'Dobutamine (mcg/min)', 'Epinephrine (mcg/hr)', 'Dopamine ()',\n",
       "       'Dobutamine (ml/hr)', 'Dopamine (mcg/min)',\n",
       "       'dopamine (mcg/kg/min)', 'Epinephrine (mg/hr)',\n",
       "       'Epinephrine (mg/kg/min)', 'Dopamine (mcg/hr)',\n",
       "       'Norepinephrine (units/min)', 'Dobutamine ()',\n",
       "       'Dobutamine (mcg/kg/hr)', 'Dopamine (mg/hr)', 'Dopamine (Unknown)',\n",
       "       'Epinephrine ()', 'Dopamine (mcg/kg/hr)',\n",
       "       'Norepinephrine (mg/kg/min)', 'Dopamine (nanograms/kg/min)',\n",
       "       'norepinephrine Volume (ml) (ml/hr)', 'norepinephrine Volume (ml)',\n",
       "       'Dobutamine (units/min)',\n",
       "       'Norepinephrine STD 4 mg Dextrose 5% 250 ml (mcg/min)',\n",
       "       'Norepinephrine MAX 32 mg Dextrose 5% 250 ml (mcg/min)',\n",
       "       'Norepinephrine STD 8 mg Dextrose 5% 500 ml (mcg/min)',\n",
       "       'Norepinephrine STD 32 mg Dextrose 5% 500 ml (mcg/min)',\n",
       "       'Norepinephrine STD 4 mg Dextrose 5% 500 ml (mcg/min)',\n",
       "       'Norepinephrine MAX 32 mg Dextrose 5% 500 ml (mcg/min)',\n",
       "       'Norepinephrine STD 32 mg Dextrose 5% 282 ml (mcg/min)',\n",
       "       'Norepinephrine STD 8 mg Dextrose 5% 250 ml (mcg/min)'],\n",
       "      dtype=object)"
      ]
     },
     "execution_count": 25,
     "metadata": {},
     "output_type": "execute_result"
    }
   ],
   "source": [
    "inf_drug_new['drugname'].unique()"
   ]
  },
  {
   "cell_type": "code",
   "execution_count": 27,
   "metadata": {},
   "outputs": [],
   "source": [
    "inf_drug_filtered=inf_drug_new.loc[(inf_drug_new['unit'].str.contains(\"mcg/min\")) | (inf_drug_new['unit'].str.contains(\"mcg/kg/min\")) |\n",
    "                (inf_drug_new['unit'].str.contains(\"mcg/hr\")) | (inf_drug_new['unit'].str.contains(\"mg/hr\")) |\n",
    "                (inf_drug_new['unit'].str.contains(\"mcg/kg/hr\")) | (inf_drug_new['unit'].str.contains(\"mg/min\")) |\n",
    "                (inf_drug_new['unit'].str.contains(\"mg/kg/min\")) | (inf_drug_new['unit'].str.contains(\"nanograms/kg/min\"))]"
   ]
  },
  {
   "cell_type": "code",
   "execution_count": 31,
   "metadata": {},
   "outputs": [],
   "source": [
    "patient=pd.read_csv('patient.csv', usecols=['patientunitstayid', 'admissionweight', 'dischargeweight', 'unitdischargeoffset'])"
   ]
  },
  {
   "cell_type": "code",
   "execution_count": 52,
   "metadata": {},
   "outputs": [
    {
     "data": {
      "text/plain": [
       "337283"
      ]
     },
     "execution_count": 52,
     "metadata": {},
     "output_type": "execute_result"
    }
   ],
   "source": [
    "len(inf_drug_filtered)"
   ]
  },
  {
   "cell_type": "markdown",
   "metadata": {},
   "source": [
    "<h2>Now we begin to change the units to a uniform mcg/min or mcg/kg/min</h2>"
   ]
  },
  {
   "cell_type": "code",
   "execution_count": 49,
   "metadata": {},
   "outputs": [
    {
     "name": "stdout",
     "output_type": "stream",
     "text": [
      "error could not convert string to float: 'OFF\\\\.br\\\\\\\\.br\\\\' on line 320429\n",
      "error could not convert string to float: '30\\\\.br\\\\' on line 320970\n",
      "error could not convert string to float: '50 mcg/min' on line 322544\n",
      "error could not convert string to float: '50mcg/min\\\\.br\\\\' on line 322557\n",
      "error could not convert string to float: 'OFF' on line 322915\n",
      "error could not convert string to float: 'OFF' on line 322916\n",
      "error could not convert string to float: 'OFF' on line 322925\n",
      "error could not convert string to float: 'OFF' on line 329343\n",
      "error could not convert string to float: 'OFF' on line 329363\n",
      "error could not convert string to float: 'Documentation undone' on line 329443\n"
     ]
    }
   ],
   "source": [
    "floats=[]\n",
    "index=0\n",
    "for value in inf_drug_filtered['drugrate']:\n",
    "    index+=1\n",
    "    try:\n",
    "        x=float(value)\n",
    "    except ValueError as e:\n",
    "        print(\"error\",e,\"on line\",index)"
   ]
  },
  {
   "cell_type": "markdown",
   "metadata": {},
   "source": [
    "<h4>Delete these lines - in the above lines</h4>"
   ]
  },
  {
   "cell_type": "code",
   "execution_count": 54,
   "metadata": {},
   "outputs": [],
   "source": [
    "inf_drug_filtered=inf_drug_filtered.loc[~(inf_drug_filtered['drugrate']=='OFF\\\\.br\\\\\\\\.br\\\\') & ~(inf_drug_filtered['drugrate']=='30\\\\.br\\\\') &\n",
    "                     ~(inf_drug_filtered['drugrate']=='50 mcg/min') & ~(inf_drug_filtered['drugrate']=='50mcg/min\\\\.br\\\\') &\n",
    "                     ~(inf_drug_filtered['drugrate']=='OFF') & ~(inf_drug_filtered['drugrate']=='Documentation undone')]"
   ]
  },
  {
   "cell_type": "code",
   "execution_count": 57,
   "metadata": {},
   "outputs": [],
   "source": [
    "inf_drug_filtered[['drugrate']]=inf_drug_filtered[['drugrate']].astype(str).astype(float)"
   ]
  },
  {
   "cell_type": "markdown",
   "metadata": {},
   "source": [
    "<h4>Convert milli, nano to micro and hr to min</h4>"
   ]
  },
  {
   "cell_type": "code",
   "execution_count": 61,
   "metadata": {},
   "outputs": [],
   "source": [
    "inf_drug_filtered.loc[inf_drug_filtered['unit'].str.contains(\"mg/hr\"),'drugrate']=inf_drug_filtered['drugrate']*(100/6)\n",
    "inf_drug_filtered.loc[inf_drug_filtered['unit'].str.contains(\"mcg/hr\"),'drugrate']=inf_drug_filtered['drugrate']*(1/60)\n",
    "inf_drug_filtered.loc[inf_drug_filtered['unit'].str.contains(\"mcg/kg/hr\"),'drugrate']=inf_drug_filtered['drugrate']*(1/60)\n",
    "inf_drug_filtered.loc[inf_drug_filtered['unit'].str.contains(\"mg/min\"),'drugrate']=inf_drug_filtered['drugrate']*(1000)\n",
    "inf_drug_filtered.loc[inf_drug_filtered['unit'].str.contains(\"mg/kg/min\"),'drugrate']=inf_drug_filtered['drugrate']*(1000)\n",
    "inf_drug_filtered.loc[inf_drug_filtered['unit'].str.contains(\"nanograms/kg/min\"),'drugrate']=inf_drug_filtered['drugrate']*(1/1000)"
   ]
  },
  {
   "cell_type": "code",
   "execution_count": 65,
   "metadata": {},
   "outputs": [],
   "source": [
    "inf_drug_filtered['unit']=inf_drug_filtered['unit'].replace(['mg/hr)','mcg/hr)','mg/min)','mcg/min)'],'mcg/min')"
   ]
  },
  {
   "cell_type": "code",
   "execution_count": 69,
   "metadata": {},
   "outputs": [],
   "source": [
    "inf_drug_filtered['unit']=inf_drug_filtered['unit'].replace(['mcg/kg/hr)','mg/kg/min)','nanograms/kg/min)','mcg/kg/min)'],'mcg/kg/min')"
   ]
  },
  {
   "cell_type": "code",
   "execution_count": 71,
   "metadata": {},
   "outputs": [],
   "source": [
    "inf_drug_filtered.to_csv(\"cardiovascular_params.csv\", sep=',', index=False, encoding='utf-8')"
   ]
  },
  {
   "cell_type": "markdown",
   "metadata": {},
   "source": [
    "<h4>Now, the only remaining thing to do to this table is adjust the drugrate with the patient weight from the patient.csv table</h4>"
   ]
  },
  {
   "cell_type": "code",
   "execution_count": null,
   "metadata": {},
   "outputs": [],
   "source": []
  },
  {
   "cell_type": "code",
   "execution_count": null,
   "metadata": {},
   "outputs": [],
   "source": []
  },
  {
   "cell_type": "code",
   "execution_count": null,
   "metadata": {},
   "outputs": [],
   "source": []
  },
  {
   "cell_type": "code",
   "execution_count": null,
   "metadata": {},
   "outputs": [],
   "source": []
  },
  {
   "cell_type": "code",
   "execution_count": 9,
   "metadata": {},
   "outputs": [],
   "source": [
    "vitalp=pd.read_csv(\"vitalPeriodic.csv\",chunksize=100000)"
   ]
  },
  {
   "cell_type": "code",
   "execution_count": 10,
   "metadata": {},
   "outputs": [],
   "source": [
    "vp_list=[]\n",
    "for chunk in vitalp:\n",
    "    vp_list.append(chunk)"
   ]
  },
  {
   "cell_type": "code",
   "execution_count": 11,
   "metadata": {},
   "outputs": [],
   "source": [
    "df_vitalp=pd.concat(vp_list)"
   ]
  },
  {
   "cell_type": "code",
   "execution_count": 18,
   "metadata": {},
   "outputs": [
    {
     "data": {
      "text/html": [
       "<div>\n",
       "<style scoped>\n",
       "    .dataframe tbody tr th:only-of-type {\n",
       "        vertical-align: middle;\n",
       "    }\n",
       "\n",
       "    .dataframe tbody tr th {\n",
       "        vertical-align: top;\n",
       "    }\n",
       "\n",
       "    .dataframe thead th {\n",
       "        text-align: right;\n",
       "    }\n",
       "</style>\n",
       "<table border=\"1\" class=\"dataframe\">\n",
       "  <thead>\n",
       "    <tr style=\"text-align: right;\">\n",
       "      <th></th>\n",
       "      <th>patientunitstayid</th>\n",
       "      <th>observationoffset</th>\n",
       "      <th>temperature</th>\n",
       "      <th>heartrate</th>\n",
       "      <th>systemicsystolic</th>\n",
       "      <th>systemicdiastolic</th>\n",
       "    </tr>\n",
       "  </thead>\n",
       "  <tbody>\n",
       "    <tr>\n",
       "      <th>0</th>\n",
       "      <td>141168</td>\n",
       "      <td>2059</td>\n",
       "      <td>NaN</td>\n",
       "      <td>92.0</td>\n",
       "      <td>NaN</td>\n",
       "      <td>NaN</td>\n",
       "    </tr>\n",
       "    <tr>\n",
       "      <th>1</th>\n",
       "      <td>141168</td>\n",
       "      <td>1289</td>\n",
       "      <td>NaN</td>\n",
       "      <td>118.0</td>\n",
       "      <td>NaN</td>\n",
       "      <td>NaN</td>\n",
       "    </tr>\n",
       "    <tr>\n",
       "      <th>2</th>\n",
       "      <td>141168</td>\n",
       "      <td>1794</td>\n",
       "      <td>NaN</td>\n",
       "      <td>78.0</td>\n",
       "      <td>NaN</td>\n",
       "      <td>NaN</td>\n",
       "    </tr>\n",
       "    <tr>\n",
       "      <th>3</th>\n",
       "      <td>141168</td>\n",
       "      <td>1374</td>\n",
       "      <td>NaN</td>\n",
       "      <td>118.0</td>\n",
       "      <td>NaN</td>\n",
       "      <td>NaN</td>\n",
       "    </tr>\n",
       "    <tr>\n",
       "      <th>4</th>\n",
       "      <td>141168</td>\n",
       "      <td>2039</td>\n",
       "      <td>NaN</td>\n",
       "      <td>92.0</td>\n",
       "      <td>NaN</td>\n",
       "      <td>NaN</td>\n",
       "    </tr>\n",
       "  </tbody>\n",
       "</table>\n",
       "</div>"
      ],
      "text/plain": [
       "   patientunitstayid  observationoffset  temperature  heartrate  \\\n",
       "0             141168               2059          NaN       92.0   \n",
       "1             141168               1289          NaN      118.0   \n",
       "2             141168               1794          NaN       78.0   \n",
       "3             141168               1374          NaN      118.0   \n",
       "4             141168               2039          NaN       92.0   \n",
       "\n",
       "   systemicsystolic  systemicdiastolic  \n",
       "0               NaN                NaN  \n",
       "1               NaN                NaN  \n",
       "2               NaN                NaN  \n",
       "3               NaN                NaN  \n",
       "4               NaN                NaN  "
      ]
     },
     "execution_count": 18,
     "metadata": {},
     "output_type": "execute_result"
    }
   ],
   "source": [
    "df_vitalp.head()"
   ]
  },
  {
   "cell_type": "code",
   "execution_count": 14,
   "metadata": {},
   "outputs": [],
   "source": [
    "df_vitalp=df_vitalp[['patientunitstayid','observationoffset','temperature','heartrate','systemicsystolic','systemicdiastolic']]"
   ]
  },
  {
   "cell_type": "code",
   "execution_count": 16,
   "metadata": {},
   "outputs": [],
   "source": [
    "df_vitalp.to_csv(\"systemicsystolic_measures.csv\", sep=',', index=False,encoding='utf-8')"
   ]
  },
  {
   "cell_type": "code",
   "execution_count": 17,
   "metadata": {},
   "outputs": [
    {
     "data": {
      "text/plain": [
       "146671642"
      ]
     },
     "execution_count": 17,
     "metadata": {},
     "output_type": "execute_result"
    }
   ],
   "source": [
    "len(df_vitalp)"
   ]
  },
  {
   "cell_type": "code",
   "execution_count": 29,
   "metadata": {},
   "outputs": [],
   "source": []
  },
  {
   "cell_type": "code",
   "execution_count": 30,
   "metadata": {},
   "outputs": [
    {
     "data": {
      "text/html": [
       "<div>\n",
       "<style scoped>\n",
       "    .dataframe tbody tr th:only-of-type {\n",
       "        vertical-align: middle;\n",
       "    }\n",
       "\n",
       "    .dataframe tbody tr th {\n",
       "        vertical-align: top;\n",
       "    }\n",
       "\n",
       "    .dataframe thead th {\n",
       "        text-align: right;\n",
       "    }\n",
       "</style>\n",
       "<table border=\"1\" class=\"dataframe\">\n",
       "  <thead>\n",
       "    <tr style=\"text-align: right;\">\n",
       "      <th></th>\n",
       "      <th>patientunitstayid</th>\n",
       "      <th>admissionweight</th>\n",
       "      <th>dischargeweight</th>\n",
       "      <th>unitdischargeoffset</th>\n",
       "    </tr>\n",
       "  </thead>\n",
       "  <tbody>\n",
       "    <tr>\n",
       "      <th>0</th>\n",
       "      <td>141168</td>\n",
       "      <td>84.3</td>\n",
       "      <td>85.8</td>\n",
       "      <td>3596</td>\n",
       "    </tr>\n",
       "    <tr>\n",
       "      <th>1</th>\n",
       "      <td>141178</td>\n",
       "      <td>54.4</td>\n",
       "      <td>54.4</td>\n",
       "      <td>8</td>\n",
       "    </tr>\n",
       "    <tr>\n",
       "      <th>2</th>\n",
       "      <td>141179</td>\n",
       "      <td>NaN</td>\n",
       "      <td>60.4</td>\n",
       "      <td>2042</td>\n",
       "    </tr>\n",
       "    <tr>\n",
       "      <th>3</th>\n",
       "      <td>141194</td>\n",
       "      <td>73.9</td>\n",
       "      <td>76.7</td>\n",
       "      <td>4813</td>\n",
       "    </tr>\n",
       "    <tr>\n",
       "      <th>4</th>\n",
       "      <td>141196</td>\n",
       "      <td>NaN</td>\n",
       "      <td>63.2</td>\n",
       "      <td>1463</td>\n",
       "    </tr>\n",
       "  </tbody>\n",
       "</table>\n",
       "</div>"
      ],
      "text/plain": [
       "   patientunitstayid  admissionweight  dischargeweight  unitdischargeoffset\n",
       "0             141168             84.3             85.8                 3596\n",
       "1             141178             54.4             54.4                    8\n",
       "2             141179              NaN             60.4                 2042\n",
       "3             141194             73.9             76.7                 4813\n",
       "4             141196              NaN             63.2                 1463"
      ]
     },
     "execution_count": 30,
     "metadata": {},
     "output_type": "execute_result"
    }
   ],
   "source": [
    "patient.head()"
   ]
  },
  {
   "cell_type": "code",
   "execution_count": 21,
   "metadata": {},
   "outputs": [],
   "source": [
    "patient=patient[['patientunitstayid', 'admissionweight', 'dischargeweight', 'unitdischargeoffset']]"
   ]
  },
  {
   "cell_type": "code",
   "execution_count": 23,
   "metadata": {},
   "outputs": [
    {
     "data": {
      "text/html": [
       "<div>\n",
       "<style scoped>\n",
       "    .dataframe tbody tr th:only-of-type {\n",
       "        vertical-align: middle;\n",
       "    }\n",
       "\n",
       "    .dataframe tbody tr th {\n",
       "        vertical-align: top;\n",
       "    }\n",
       "\n",
       "    .dataframe thead th {\n",
       "        text-align: right;\n",
       "    }\n",
       "</style>\n",
       "<table border=\"1\" class=\"dataframe\">\n",
       "  <thead>\n",
       "    <tr style=\"text-align: right;\">\n",
       "      <th></th>\n",
       "      <th>patientunitstayid</th>\n",
       "      <th>admissionweight</th>\n",
       "      <th>dischargeweight</th>\n",
       "      <th>unitdischargeoffset</th>\n",
       "    </tr>\n",
       "  </thead>\n",
       "  <tbody>\n",
       "    <tr>\n",
       "      <th>0</th>\n",
       "      <td>141168</td>\n",
       "      <td>84.3</td>\n",
       "      <td>85.8</td>\n",
       "      <td>3596</td>\n",
       "    </tr>\n",
       "    <tr>\n",
       "      <th>1</th>\n",
       "      <td>141178</td>\n",
       "      <td>54.4</td>\n",
       "      <td>54.4</td>\n",
       "      <td>8</td>\n",
       "    </tr>\n",
       "    <tr>\n",
       "      <th>2</th>\n",
       "      <td>141179</td>\n",
       "      <td>NaN</td>\n",
       "      <td>60.4</td>\n",
       "      <td>2042</td>\n",
       "    </tr>\n",
       "    <tr>\n",
       "      <th>3</th>\n",
       "      <td>141194</td>\n",
       "      <td>73.9</td>\n",
       "      <td>76.7</td>\n",
       "      <td>4813</td>\n",
       "    </tr>\n",
       "    <tr>\n",
       "      <th>4</th>\n",
       "      <td>141196</td>\n",
       "      <td>NaN</td>\n",
       "      <td>63.2</td>\n",
       "      <td>1463</td>\n",
       "    </tr>\n",
       "  </tbody>\n",
       "</table>\n",
       "</div>"
      ],
      "text/plain": [
       "   patientunitstayid  admissionweight  dischargeweight  unitdischargeoffset\n",
       "0             141168             84.3             85.8                 3596\n",
       "1             141178             54.4             54.4                    8\n",
       "2             141179              NaN             60.4                 2042\n",
       "3             141194             73.9             76.7                 4813\n",
       "4             141196              NaN             63.2                 1463"
      ]
     },
     "execution_count": 23,
     "metadata": {},
     "output_type": "execute_result"
    }
   ],
   "source": [
    "patient.head()"
   ]
  },
  {
   "cell_type": "code",
   "execution_count": 17,
   "metadata": {},
   "outputs": [],
   "source": [
    "l='i am ronet( swaminathan'"
   ]
  },
  {
   "cell_type": "code",
   "execution_count": 18,
   "metadata": {},
   "outputs": [
    {
     "data": {
      "text/plain": [
       "['i am ronet', ' swaminathan']"
      ]
     },
     "execution_count": 18,
     "metadata": {},
     "output_type": "execute_result"
    }
   ],
   "source": [
    "l.split(\"(\")"
   ]
  },
  {
   "cell_type": "code",
   "execution_count": 10,
   "metadata": {},
   "outputs": [
    {
     "ename": "IndexError",
     "evalue": "list index out of range",
     "output_type": "error",
     "traceback": [
      "\u001b[1;31m---------------------------------------------------------------------------\u001b[0m",
      "\u001b[1;31mIndexError\u001b[0m                                Traceback (most recent call last)",
      "\u001b[1;32m<ipython-input-10-0b6f8c993936>\u001b[0m in \u001b[0;36m<module>\u001b[1;34m\u001b[0m\n\u001b[1;32m----> 1\u001b[1;33m \u001b[0ml\u001b[0m\u001b[1;33m.\u001b[0m\u001b[0msplit\u001b[0m\u001b[1;33m(\u001b[0m\u001b[1;34m\",\"\u001b[0m\u001b[1;33m)\u001b[0m\u001b[1;33m[\u001b[0m\u001b[1;36m1\u001b[0m\u001b[1;33m]\u001b[0m\u001b[1;33m\u001b[0m\u001b[1;33m\u001b[0m\u001b[0m\n\u001b[0m",
      "\u001b[1;31mIndexError\u001b[0m: list index out of range"
     ]
    }
   ],
   "source": [
    "l.split(\",\")[1]"
   ]
  },
  {
   "cell_type": "code",
   "execution_count": null,
   "metadata": {},
   "outputs": [],
   "source": []
  }
 ],
 "metadata": {
  "kernelspec": {
   "display_name": "Python 3",
   "language": "python",
   "name": "python3"
  },
  "language_info": {
   "codemirror_mode": {
    "name": "ipython",
    "version": 3
   },
   "file_extension": ".py",
   "mimetype": "text/x-python",
   "name": "python",
   "nbconvert_exporter": "python",
   "pygments_lexer": "ipython3",
   "version": "3.7.3"
  }
 },
 "nbformat": 4,
 "nbformat_minor": 2
}
