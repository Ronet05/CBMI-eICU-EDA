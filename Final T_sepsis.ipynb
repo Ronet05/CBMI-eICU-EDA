{
 "cells": [
  {
   "cell_type": "code",
   "execution_count": 1,
   "metadata": {},
   "outputs": [],
   "source": [
    "import pandas as pd\n",
    "import numpy as np"
   ]
  },
  {
   "cell_type": "code",
   "execution_count": 9,
   "metadata": {},
   "outputs": [],
   "source": [
    "lab_sofa=pd.read_csv(\"Labs_withSOFA.csv\")\n",
    "vent_sofa=pd.read_csv(\"drugate_norm_updated.csv\",usecols=['patientunitstayid','offset','SOFA_cardio'])\n",
    "gcs_sofa=pd.read_csv(\"gcs_withSOFA.csv\",usecols=['patientunitstayid','offset','SOFA_GCS'])\n",
    "t_sus=pd.read_csv(\"ABX_BC_pid_offset_Clean_TsuspicionMax.csv\")"
   ]
  },
  {
   "cell_type": "code",
   "execution_count": 10,
   "metadata": {},
   "outputs": [],
   "source": [
    "patientIDs_IV = t_sus.patientunitstayid.unique().tolist()\n",
    "patientIDs_IV_sub = pd.DataFrame(patientIDs_IV)\n",
    "patientIDs_IV_sub.columns=['patientunitstayid']"
   ]
  },
  {
   "cell_type": "markdown",
   "metadata": {},
   "source": [
    "<h3><center>Let's start the merging<center></h3>"
   ]
  },
  {
   "cell_type": "code",
   "execution_count": 28,
   "metadata": {},
   "outputs": [],
   "source": [
    "labs_sus=pd.merge(lab_sofa,patientIDs_IV_sub,how=\"inner\",on='patientunitstayid').drop_duplicates()\n",
    "vent_sus=pd.merge(vent_sofa,patientIDs_IV_sub,how=\"inner\",on='patientunitstayid').drop_duplicates()\n",
    "gcs_sofa_sus=pd.merge(gcs_sofa,patientIDs_IV_sub,how=\"inner\",on='patientunitstayid').drop_duplicates()\n",
    "labs_vent=pd.merge(labs_sus,vent_sus,on=['patientunitstayid','offset'],how=\"outer\").drop_duplicates()\n",
    "final_sofa=pd.merge(labs_vent,gcs_sofa_sus,on=['patientunitstayid','offset'],how=\"outer\").drop_duplicates()\n",
    "final_sofa=final_sofa.fillna(0)\n"
   ]
  },
  {
   "cell_type": "markdown",
   "metadata": {},
   "source": [
    "<h3><center>Calculating the Total SOFA score, difference between scores and the cumulative time, from admission</center></h3>"
   ]
  },
  {
   "cell_type": "code",
   "execution_count": 29,
   "metadata": {},
   "outputs": [],
   "source": [
    "final_sofa=final_sofa.groupby(['patientunitstayid','offset'],as_index=False).max().drop_duplicates\n",
    "final_sofa=final_sofa.groupby(['patientunitstayid'],as_index=False).apply(pd.DataFrame.sort_values,'offset').reset_index()\n",
    "final_sofa=final_sofa.drop(columns=['level_0','level_1'])\n",
    "final_sofa['Total_SOFA']=final_sofa['SOFA_Coagulation']+final_sofa['SOFA_Liver']+final_sofa['SOFA_Respiration']+final_sofa['SOFA_Renal']+final_sofa['SOFA_cardio']+final_sofa['SOFA_GCS']\n",
    "del lab_sofa\n",
    "del vent_sofa\n",
    "del gcs_sofa\n",
    "\n",
    "#We need a way to check whether the time when there is a difference of 2 or more in SOFA score, is less than or equal to 24 hrs\n",
    "#Thus we either check (t_curr-t_min)<=24hrs or the better way, calculate the cumulative sum of diff of offsets\n",
    "final_sofa['diff_per_SOFA']=final_sofa.groupby(['patientunitstayid'])['Total_SOFA'].transform(lambda x: x.diff()).fillna(0)\n",
    "final_sofa['diff_per_offset']=final_sofa.groupby(['patientunitstayid'])['offset'].transform(lambda x:x.diff()).fillna(0)\n",
    "final_sofa['cumulative_time']=final_sofa.groupby(['patientunitstayid'])['diff_per_offset'].transform(lambda x:x.cumsum())"
   ]
  },
  {
   "cell_type": "markdown",
   "metadata": {},
   "source": [
    "<h3><center>Filtering the SOFA table based on the (score diff >= 2 and cumulative time <= 24 hours) </center></h3>"
   ]
  },
  {
   "cell_type": "code",
   "execution_count": 58,
   "metadata": {},
   "outputs": [],
   "source": [
    "for_24_hr=final_sofa.loc[(final_sofa['diff_per_SOFA']>=2) & (final_sofa['cumulative_time']<=(24*60))]\n",
    "\n",
    "#The 72 hours one is just for the sake of calculation. Feel free to ignore it completely\n",
    "for_72_hr=final_sofa.loc[(final_sofa['diff_per_SOFA']>=2) & (final_sofa['cumulative_time']<=(72*60))]"
   ]
  },
  {
   "cell_type": "code",
   "execution_count": 95,
   "metadata": {
    "scrolled": true
   },
   "outputs": [
    {
     "data": {
      "text/html": [
       "<div>\n",
       "<style scoped>\n",
       "    .dataframe tbody tr th:only-of-type {\n",
       "        vertical-align: middle;\n",
       "    }\n",
       "\n",
       "    .dataframe tbody tr th {\n",
       "        vertical-align: top;\n",
       "    }\n",
       "\n",
       "    .dataframe thead th {\n",
       "        text-align: right;\n",
       "    }\n",
       "</style>\n",
       "<table border=\"1\" class=\"dataframe\">\n",
       "  <thead>\n",
       "    <tr style=\"text-align: right;\">\n",
       "      <th></th>\n",
       "      <th>patientunitstayid</th>\n",
       "      <th>offset</th>\n",
       "      <th>SOFA_Coagulation</th>\n",
       "      <th>SOFA_Liver</th>\n",
       "      <th>SOFA_Respiration</th>\n",
       "      <th>SOFA_Renal</th>\n",
       "      <th>SOFA_cardio</th>\n",
       "      <th>SOFA_GCS</th>\n",
       "      <th>Total_SOFA</th>\n",
       "      <th>diff_per_offset</th>\n",
       "      <th>diff_per_SOFA</th>\n",
       "      <th>cumulative_time</th>\n",
       "    </tr>\n",
       "  </thead>\n",
       "  <tbody>\n",
       "    <tr>\n",
       "      <th>1</th>\n",
       "      <td>242040</td>\n",
       "      <td>69.0</td>\n",
       "      <td>0.0</td>\n",
       "      <td>0.0</td>\n",
       "      <td>0.0</td>\n",
       "      <td>0.0</td>\n",
       "      <td>0.0</td>\n",
       "      <td>4.0</td>\n",
       "      <td>4.0</td>\n",
       "      <td>42.0</td>\n",
       "      <td>4.0</td>\n",
       "      <td>42.0</td>\n",
       "    </tr>\n",
       "    <tr>\n",
       "      <th>11</th>\n",
       "      <td>242154</td>\n",
       "      <td>270.0</td>\n",
       "      <td>0.0</td>\n",
       "      <td>0.0</td>\n",
       "      <td>0.0</td>\n",
       "      <td>0.0</td>\n",
       "      <td>0.0</td>\n",
       "      <td>4.0</td>\n",
       "      <td>4.0</td>\n",
       "      <td>105.0</td>\n",
       "      <td>2.0</td>\n",
       "      <td>240.0</td>\n",
       "    </tr>\n",
       "    <tr>\n",
       "      <th>14</th>\n",
       "      <td>242154</td>\n",
       "      <td>510.0</td>\n",
       "      <td>0.0</td>\n",
       "      <td>0.0</td>\n",
       "      <td>0.0</td>\n",
       "      <td>0.0</td>\n",
       "      <td>0.0</td>\n",
       "      <td>4.0</td>\n",
       "      <td>4.0</td>\n",
       "      <td>25.0</td>\n",
       "      <td>2.0</td>\n",
       "      <td>480.0</td>\n",
       "    </tr>\n",
       "    <tr>\n",
       "      <th>18</th>\n",
       "      <td>242154</td>\n",
       "      <td>1210.0</td>\n",
       "      <td>0.0</td>\n",
       "      <td>0.0</td>\n",
       "      <td>0.0</td>\n",
       "      <td>0.0</td>\n",
       "      <td>0.0</td>\n",
       "      <td>4.0</td>\n",
       "      <td>4.0</td>\n",
       "      <td>180.0</td>\n",
       "      <td>2.0</td>\n",
       "      <td>1180.0</td>\n",
       "    </tr>\n",
       "    <tr>\n",
       "      <th>91</th>\n",
       "      <td>242290</td>\n",
       "      <td>165.0</td>\n",
       "      <td>0.0</td>\n",
       "      <td>0.0</td>\n",
       "      <td>0.0</td>\n",
       "      <td>0.0</td>\n",
       "      <td>0.0</td>\n",
       "      <td>4.0</td>\n",
       "      <td>4.0</td>\n",
       "      <td>75.0</td>\n",
       "      <td>2.0</td>\n",
       "      <td>135.0</td>\n",
       "    </tr>\n",
       "  </tbody>\n",
       "</table>\n",
       "</div>"
      ],
      "text/plain": [
       "    patientunitstayid  offset  SOFA_Coagulation  SOFA_Liver  SOFA_Respiration  \\\n",
       "1              242040    69.0               0.0         0.0               0.0   \n",
       "11             242154   270.0               0.0         0.0               0.0   \n",
       "14             242154   510.0               0.0         0.0               0.0   \n",
       "18             242154  1210.0               0.0         0.0               0.0   \n",
       "91             242290   165.0               0.0         0.0               0.0   \n",
       "\n",
       "    SOFA_Renal  SOFA_cardio  SOFA_GCS  Total_SOFA  diff_per_offset  \\\n",
       "1          0.0          0.0       4.0         4.0             42.0   \n",
       "11         0.0          0.0       4.0         4.0            105.0   \n",
       "14         0.0          0.0       4.0         4.0             25.0   \n",
       "18         0.0          0.0       4.0         4.0            180.0   \n",
       "91         0.0          0.0       4.0         4.0             75.0   \n",
       "\n",
       "    diff_per_SOFA  cumulative_time  \n",
       "1             4.0             42.0  \n",
       "11            2.0            240.0  \n",
       "14            2.0            480.0  \n",
       "18            2.0           1180.0  \n",
       "91            2.0            135.0  "
      ]
     },
     "execution_count": 95,
     "metadata": {},
     "output_type": "execute_result"
    }
   ],
   "source": [
    "for_24_hr.head()"
   ]
  },
  {
   "cell_type": "markdown",
   "metadata": {},
   "source": [
    "<h3><center>Clubbing the t_suspicion table with filtered SOFA table</center></h3>"
   ]
  },
  {
   "cell_type": "code",
   "execution_count": 63,
   "metadata": {},
   "outputs": [],
   "source": [
    "t_sus=t_sus.rename(columns={'max':'tsus'})\n",
    "\n",
    "for_24_hr_tsofa=for_24_hr.groupby(['patientunitstayid']).agg({'offset':'min'}).reset_index()\n",
    "for_24_hr_tsofa=for_24_hr_tsofa.rename(columns={'offset':'tsofa'})\n",
    "\n",
    "for_72_hr_tsofa=for_72_hr.groupby(['patientunitstayid']).agg({'offset':'min'}).reset_index()\n",
    "for_72_hr_tsofa=for_72_hr_tsofa.rename(columns={'offset':'tsofa'})"
   ]
  },
  {
   "cell_type": "code",
   "execution_count": 104,
   "metadata": {},
   "outputs": [],
   "source": [
    "for_24_hr_tsepsis=pd.merge(for_24_hr_tsofa,t_sus,on='patientunitstayid',how='inner').drop_duplicates()\n",
    "for_72_hr_tsepsis=pd.merge(for_72_hr_tsofa,t_sus,on='patientunitstayid',how='inner')"
   ]
  },
  {
   "cell_type": "markdown",
   "metadata": {},
   "source": [
    "<h3><center>flag==1 stands for cases, where as 0 for control.</center></h3>\n",
    "<h3><center>Then we calculate the t_sepsis_onset time based on the required constraints</center></h3>"
   ]
  },
  {
   "cell_type": "code",
   "execution_count": 105,
   "metadata": {},
   "outputs": [],
   "source": [
    "for_24_hr_tsepsis['flag']=0\n",
    "for_72_hr_tsepsis['flag']=0\n",
    "for_24_hr_tsepsis.loc[(for_24_hr_tsepsis['tsofa']>=(for_24_hr_tsepsis['tsus']-(24*60))) & (for_24_hr_tsepsis['tsofa']<=(for_24_hr_tsepsis['tsus']+(12*60))),'flag']=1\n",
    "\n",
    "#the 72 hours seems wrong.....but for the sake of caclulation\n",
    "for_72_hr_tsepsis.loc[(for_72_hr_tsepsis['tsofa']>=(for_72_hr_tsepsis['tsus']-(24*60))) & (for_72_hr_tsepsis['tsofa']<=(for_72_hr_tsepsis['tsus']+(12*60))),'flag']=1"
   ]
  },
  {
   "cell_type": "code",
   "execution_count": 112,
   "metadata": {},
   "outputs": [],
   "source": [
    "for_24_hr_tsepsis.to_csv(\"24_hour_sepsis.csv\",index=False)"
   ]
  },
  {
   "cell_type": "code",
   "execution_count": 106,
   "metadata": {},
   "outputs": [
    {
     "name": "stderr",
     "output_type": "stream",
     "text": [
      "C:\\ProgramData\\Anaconda3\\lib\\site-packages\\ipykernel_launcher.py:3: SettingWithCopyWarning: \n",
      "A value is trying to be set on a copy of a slice from a DataFrame.\n",
      "Try using .loc[row_indexer,col_indexer] = value instead\n",
      "\n",
      "See the caveats in the documentation: http://pandas.pydata.org/pandas-docs/stable/indexing.html#indexing-view-versus-copy\n",
      "  This is separate from the ipykernel package so we can avoid doing imports until\n",
      "C:\\ProgramData\\Anaconda3\\lib\\site-packages\\ipykernel_launcher.py:4: SettingWithCopyWarning: \n",
      "A value is trying to be set on a copy of a slice from a DataFrame.\n",
      "Try using .loc[row_indexer,col_indexer] = value instead\n",
      "\n",
      "See the caveats in the documentation: http://pandas.pydata.org/pandas-docs/stable/indexing.html#indexing-view-versus-copy\n",
      "  after removing the cwd from sys.path.\n"
     ]
    }
   ],
   "source": [
    "for_24_hr_cases=for_24_hr_tsepsis[for_24_hr_tsepsis['flag']==1]\n",
    "for_72_hr_cases=for_72_hr_tsepsis[for_72_hr_tsepsis['flag']==1]\n",
    "for_24_hr_cases['tsepsis']=for_24_hr_cases[['tsus','tsofa']].min(axis=1)\n",
    "for_72_hr_cases['tsepsis']=for_72_hr_cases[['tsus','tsofa']].min(axis=1)"
   ]
  },
  {
   "cell_type": "code",
   "execution_count": 107,
   "metadata": {},
   "outputs": [
    {
     "data": {
      "text/html": [
       "<div>\n",
       "<style scoped>\n",
       "    .dataframe tbody tr th:only-of-type {\n",
       "        vertical-align: middle;\n",
       "    }\n",
       "\n",
       "    .dataframe tbody tr th {\n",
       "        vertical-align: top;\n",
       "    }\n",
       "\n",
       "    .dataframe thead th {\n",
       "        text-align: right;\n",
       "    }\n",
       "</style>\n",
       "<table border=\"1\" class=\"dataframe\">\n",
       "  <thead>\n",
       "    <tr style=\"text-align: right;\">\n",
       "      <th></th>\n",
       "      <th>patientunitstayid</th>\n",
       "      <th>tsofa</th>\n",
       "      <th>tsus</th>\n",
       "      <th>flag</th>\n",
       "      <th>tsepsis</th>\n",
       "    </tr>\n",
       "  </thead>\n",
       "  <tbody>\n",
       "    <tr>\n",
       "      <th>0</th>\n",
       "      <td>242040</td>\n",
       "      <td>69.0</td>\n",
       "      <td>188.0</td>\n",
       "      <td>1</td>\n",
       "      <td>69.0</td>\n",
       "    </tr>\n",
       "    <tr>\n",
       "      <th>2</th>\n",
       "      <td>242290</td>\n",
       "      <td>165.0</td>\n",
       "      <td>165.0</td>\n",
       "      <td>1</td>\n",
       "      <td>165.0</td>\n",
       "    </tr>\n",
       "    <tr>\n",
       "      <th>4</th>\n",
       "      <td>242544</td>\n",
       "      <td>9.0</td>\n",
       "      <td>31.0</td>\n",
       "      <td>1</td>\n",
       "      <td>9.0</td>\n",
       "    </tr>\n",
       "    <tr>\n",
       "      <th>5</th>\n",
       "      <td>242851</td>\n",
       "      <td>209.0</td>\n",
       "      <td>466.0</td>\n",
       "      <td>1</td>\n",
       "      <td>209.0</td>\n",
       "    </tr>\n",
       "    <tr>\n",
       "      <th>6</th>\n",
       "      <td>243208</td>\n",
       "      <td>752.0</td>\n",
       "      <td>892.0</td>\n",
       "      <td>1</td>\n",
       "      <td>752.0</td>\n",
       "    </tr>\n",
       "  </tbody>\n",
       "</table>\n",
       "</div>"
      ],
      "text/plain": [
       "   patientunitstayid  tsofa   tsus  flag  tsepsis\n",
       "0             242040   69.0  188.0     1     69.0\n",
       "2             242290  165.0  165.0     1    165.0\n",
       "4             242544    9.0   31.0     1      9.0\n",
       "5             242851  209.0  466.0     1    209.0\n",
       "6             243208  752.0  892.0     1    752.0"
      ]
     },
     "execution_count": 107,
     "metadata": {},
     "output_type": "execute_result"
    }
   ],
   "source": [
    "for_24_hr_cases.head()"
   ]
  },
  {
   "cell_type": "code",
   "execution_count": 108,
   "metadata": {},
   "outputs": [
    {
     "name": "stdout",
     "output_type": "stream",
     "text": [
      "Total patient cases captured:  14175\n"
     ]
    }
   ],
   "source": [
    "print(\"Total patient cases captured: \",len(for_24_hr_cases['patientunitstayid'].unique()))"
   ]
  },
  {
   "cell_type": "markdown",
   "metadata": {},
   "source": [
    "<h3><center>For cross checking purposes, compared with diagnoses table</center></h3>"
   ]
  },
  {
   "cell_type": "code",
   "execution_count": 98,
   "metadata": {},
   "outputs": [],
   "source": [
    "diagnosis=pd.read_csv(\"diagnosis.csv\")"
   ]
  },
  {
   "cell_type": "code",
   "execution_count": 99,
   "metadata": {},
   "outputs": [
    {
     "data": {
      "text/html": [
       "<div>\n",
       "<style scoped>\n",
       "    .dataframe tbody tr th:only-of-type {\n",
       "        vertical-align: middle;\n",
       "    }\n",
       "\n",
       "    .dataframe tbody tr th {\n",
       "        vertical-align: top;\n",
       "    }\n",
       "\n",
       "    .dataframe thead th {\n",
       "        text-align: right;\n",
       "    }\n",
       "</style>\n",
       "<table border=\"1\" class=\"dataframe\">\n",
       "  <thead>\n",
       "    <tr style=\"text-align: right;\">\n",
       "      <th></th>\n",
       "      <th>diagnosisid</th>\n",
       "      <th>patientunitstayid</th>\n",
       "      <th>activeupondischarge</th>\n",
       "      <th>diagnosisoffset</th>\n",
       "      <th>diagnosisstring</th>\n",
       "      <th>icd9code</th>\n",
       "      <th>diagnosispriority</th>\n",
       "    </tr>\n",
       "  </thead>\n",
       "  <tbody>\n",
       "    <tr>\n",
       "      <th>0</th>\n",
       "      <td>4222318</td>\n",
       "      <td>141168</td>\n",
       "      <td>False</td>\n",
       "      <td>72</td>\n",
       "      <td>cardiovascular|chest pain / ASHD|coronary arte...</td>\n",
       "      <td>414.00, I25.10</td>\n",
       "      <td>Other</td>\n",
       "    </tr>\n",
       "    <tr>\n",
       "      <th>1</th>\n",
       "      <td>3370568</td>\n",
       "      <td>141168</td>\n",
       "      <td>True</td>\n",
       "      <td>118</td>\n",
       "      <td>cardiovascular|ventricular disorders|cardiomyo...</td>\n",
       "      <td>NaN</td>\n",
       "      <td>Other</td>\n",
       "    </tr>\n",
       "    <tr>\n",
       "      <th>2</th>\n",
       "      <td>4160941</td>\n",
       "      <td>141168</td>\n",
       "      <td>False</td>\n",
       "      <td>72</td>\n",
       "      <td>pulmonary|disorders of the airways|COPD</td>\n",
       "      <td>491.20, J44.9</td>\n",
       "      <td>Other</td>\n",
       "    </tr>\n",
       "    <tr>\n",
       "      <th>3</th>\n",
       "      <td>4103261</td>\n",
       "      <td>141168</td>\n",
       "      <td>True</td>\n",
       "      <td>118</td>\n",
       "      <td>pulmonary|disorders of the airways|COPD</td>\n",
       "      <td>491.20, J44.9</td>\n",
       "      <td>Other</td>\n",
       "    </tr>\n",
       "    <tr>\n",
       "      <th>4</th>\n",
       "      <td>3545241</td>\n",
       "      <td>141168</td>\n",
       "      <td>True</td>\n",
       "      <td>118</td>\n",
       "      <td>cardiovascular|ventricular disorders|congestiv...</td>\n",
       "      <td>428.0, I50.9</td>\n",
       "      <td>Other</td>\n",
       "    </tr>\n",
       "  </tbody>\n",
       "</table>\n",
       "</div>"
      ],
      "text/plain": [
       "   diagnosisid  patientunitstayid  activeupondischarge  diagnosisoffset  \\\n",
       "0      4222318             141168                False               72   \n",
       "1      3370568             141168                 True              118   \n",
       "2      4160941             141168                False               72   \n",
       "3      4103261             141168                 True              118   \n",
       "4      3545241             141168                 True              118   \n",
       "\n",
       "                                     diagnosisstring        icd9code  \\\n",
       "0  cardiovascular|chest pain / ASHD|coronary arte...  414.00, I25.10   \n",
       "1  cardiovascular|ventricular disorders|cardiomyo...             NaN   \n",
       "2            pulmonary|disorders of the airways|COPD   491.20, J44.9   \n",
       "3            pulmonary|disorders of the airways|COPD   491.20, J44.9   \n",
       "4  cardiovascular|ventricular disorders|congestiv...    428.0, I50.9   \n",
       "\n",
       "  diagnosispriority  \n",
       "0             Other  \n",
       "1             Other  \n",
       "2             Other  \n",
       "3             Other  \n",
       "4             Other  "
      ]
     },
     "execution_count": 99,
     "metadata": {},
     "output_type": "execute_result"
    }
   ],
   "source": [
    "diagnosis.head()"
   ]
  },
  {
   "cell_type": "code",
   "execution_count": 101,
   "metadata": {},
   "outputs": [],
   "source": [
    "cases_diagnosed=diagnosis.loc[diagnosis['diagnosisstring'].str.contains(\"sepsis\",case=False)]"
   ]
  },
  {
   "cell_type": "code",
   "execution_count": 102,
   "metadata": {},
   "outputs": [
    {
     "data": {
      "text/plain": [
       "23479"
      ]
     },
     "execution_count": 102,
     "metadata": {},
     "output_type": "execute_result"
    }
   ],
   "source": [
    "len(cases_diagnosed['patientunitstayid'].unique())"
   ]
  },
  {
   "cell_type": "code",
   "execution_count": 103,
   "metadata": {},
   "outputs": [
    {
     "name": "stdout",
     "output_type": "stream",
     "text": [
      "Fraction captured:  0.6037309936539035\n"
     ]
    }
   ],
   "source": [
    "print(\"Fraction captured: \",(len(for_24_hr_cases['patientunitstayid'].unique())/len(cases_diagnosed['patientunitstayid'].unique())))   "
   ]
  },
  {
   "cell_type": "code",
   "execution_count": null,
   "metadata": {},
   "outputs": [],
   "source": []
  }
 ],
 "metadata": {
  "kernelspec": {
   "display_name": "Python 3",
   "language": "python",
   "name": "python3"
  },
  "language_info": {
   "codemirror_mode": {
    "name": "ipython",
    "version": 3
   },
   "file_extension": ".py",
   "mimetype": "text/x-python",
   "name": "python",
   "nbconvert_exporter": "python",
   "pygments_lexer": "ipython3",
   "version": "3.7.3"
  }
 },
 "nbformat": 4,
 "nbformat_minor": 2
}
